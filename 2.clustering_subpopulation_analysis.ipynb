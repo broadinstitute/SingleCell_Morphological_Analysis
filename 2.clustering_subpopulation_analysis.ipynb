{
 "cells": [
  {
   "cell_type": "markdown",
   "metadata": {},
   "source": [
    "## Clustering cells in different groups and visualize the enrichment of each category in each cluster\n",
    "\n",
    "\n",
    "#### Steps:\n",
    "\n",
    "- will be added (to do)\n",
    "  "
   ]
  },
  {
   "cell_type": "code",
   "execution_count": null,
   "metadata": {},
   "outputs": [],
   "source": [
    "%matplotlib notebook\n",
    "%load_ext autoreload\n",
    "%autoreload 2\n",
    "import pandas as pd\n",
    "import numpy as np\n",
    "import seaborn as sns\n",
    "sns.set(color_codes=True)\n",
    "from sklearn import preprocessing\n",
    "from imblearn.over_sampling import SMOTE,RandomOverSampler\n",
    "from sklearn.model_selection import train_test_split\n",
    "from sklearn.ensemble import RandomForestClassifier,RandomForestRegressor\n",
    "from sklearn.linear_model import LogisticRegression\n",
    "from sklearn.metrics import accuracy_score,confusion_matrix\n",
    "from sklearn.decomposition import PCA\n",
    "import matplotlib.pyplot as plt\n",
    "\n",
    "# from utils import read_data, visualize_data\n",
    "from utils.read_data import *\n",
    "from utils.visualize_data import *\n",
    "from sklearn.cluster import KMeans\n",
    "import time"
   ]
  },
  {
   "cell_type": "code",
   "execution_count": null,
   "metadata": {},
   "outputs": [],
   "source": [
    "# ls /home/ubuntu/bucket/projects/2016_08_01_RadialMitochondriaDistribution_donna/workspace/drugSCprofiles/"
   ]
  },
  {
   "cell_type": "markdown",
   "metadata": {},
   "source": [
    "### Input parameters"
   ]
  },
  {
   "cell_type": "code",
   "execution_count": null,
   "metadata": {},
   "outputs": [],
   "source": [
    "images_dir=\"/home/ubuntu/bucket/projects/2015_10_05_DrugRepurposing_AravindSubramanian_GolubLab_Broad/2016_04_01_a549_48hr_batch1_compressed/\"\n",
    "res_dir=\"./\"\n",
    "\n",
    "controlLabel='control'\n",
    "drugLabel='drugX'\n"
   ]
  },
  {
   "cell_type": "markdown",
   "metadata": {},
   "source": [
    "### Reading two single cell data dataframes for control and pertX\n",
    "    * This is an example of two single cell dataframe, you may ignore below cell as you have your own inputs"
   ]
  },
  {
   "cell_type": "code",
   "execution_count": null,
   "metadata": {},
   "outputs": [],
   "source": [
    "fileName=\"/home/ubuntu/bucket/projects/2016_08_01_RadialMitochondriaDistribution_donna/workspace/drugSCprofiles/BRD-A00147595-001-01-5_0.12.pkl\"    \n",
    "pair_dict = pickle.load( open(fileName, \"rb\" ) )\n",
    "df_ss0=pair_dict['cp_ss']\n",
    "pert_df_dmsos=pair_dict['cp_ss_control']\n",
    "\n",
    "cp_features=pert_df_dmsos.columns[pert_df_dmsos.columns.str.contains(\"Cells_|Cytoplasm_|Nuclei_\")].tolist()\n",
    "\n",
    "\n",
    "cols2remove0=[i for i in df_ss0 if ((df_ss0[i]=='nan').sum(axis=0)/df_ss0.shape[0])>0.05]\n",
    "cols2remove1=df_ss0[cp_features].std()[df_ss0[cp_features].std() < 0.00001].index.tolist()\n",
    "cols2remove_drug=cols2remove0+cols2remove1    \n",
    "print(cols2remove_drug)\n",
    "\n",
    "\n",
    "cols2remove0=[i for i in pert_df_dmsos if ((df_ss0[i]=='nan').sum(axis=0)/pert_df_dmsos.shape[0])>0.05]\n",
    "cols2remove1=pert_df_dmsos[cp_features].std()[pert_df_dmsos[cp_features].std() < 0.00001].index.tolist()\n",
    "cols2remove_dmso=cols2remove0+cols2remove1        \n",
    "print(cols2remove_dmso)\n",
    "\n",
    "\n",
    "cols2remove=list(set(cols2remove_dmso+cols2remove_drug))\n",
    "df_ss0=df_ss0.drop(cols2remove, axis=1);\n",
    "pert_df_dmsos=pert_df_dmsos.drop(cols2remove, axis=1);\n",
    "\n",
    "df_ss0=df_ss0.interpolate()\n",
    "pert_df_dmsos=pert_df_dmsos.interpolate()\n",
    "\n",
    "cp_features=pert_df_dmsos.columns[pert_df_dmsos.columns.str.contains(\"Cells_|Cytoplasm_|Nuclei_\")].tolist()"
   ]
  },
  {
   "cell_type": "markdown",
   "metadata": {},
   "source": [
    "### Creating \"PathName_Orig\"+channelX column for input dataframe containing the correct location of images"
   ]
  },
  {
   "cell_type": "code",
   "execution_count": null,
   "metadata": {},
   "outputs": [],
   "source": [
    "images_dir=\"/home/ubuntu/bucket/projects/2015_10_05_DrugRepurposing_AravindSubramanian_GolubLab_Broad/2016_04_01_a549_48hr_batch1_compressed/\"\n",
    "\n",
    "df_ss0[\"label\"]=drugLabel\n",
    "pert_df_dmsos[\"label\"]=\"control\"\n",
    "\n",
    "wtANDmtDf=pd.concat([df_ss0,pert_df_dmsos], ignore_index=True)\n",
    "channels=[\"Mito\",\"AGP\",\"DNA\",\"RNA\",\"ER\"]\n",
    "for ch in channels:\n",
    "    wtANDmtDf[\"PathName_Orig\"+ch]=images_dir+\"images/\"+wtANDmtDf[\"Metadata_Plate\"]\n",
    "    wtANDmtDf[\"FileName_Orig\"+ch]=wtANDmtDf[\"FileName_Orig\"+ch].apply(lambda x: x.replace(\"tiff\",\"png\"))\n",
    "\n",
    "imgSize=wtANDmtDf.Metadata_ImageSizeX.values[0]\n",
    "borderLength=int(np.percentile(wtANDmtDf.Cells_AreaShape_MajorAxisLength.values, 90)/2);    \n",
    "wtANDmtDf=edgeCellFilter2(wtANDmtDf,imgSize,borderLength);  \n"
   ]
  },
  {
   "cell_type": "markdown",
   "metadata": {},
   "source": [
    "### Apply Clustering Subpopulation analysis on input data\n",
    "    And:\n",
    "    - save the resulting images in \"res_dir\" path"
   ]
  },
  {
   "cell_type": "code",
   "execution_count": null,
   "metadata": {
    "scrolled": false
   },
   "outputs": [],
   "source": [
    "os.mkdir(res_dir+controlLabel+'-'+drugLabel)\n",
    "\n",
    "#### sub pop analysis\n",
    "wtANDmtDf_scaled = wtANDmtDf.copy()\n",
    "scaler = preprocessing.RobustScaler()\n",
    "locFeature2beremoved=list(filter(lambda x: \"_Location_Center_X\" in x or \"_Location_Center_Y\" in x, cp_features)) \n",
    "cpFeatures4scale=list(set(cp_features)-set(locFeature2beremoved))\n",
    "wtANDmt=scaler.fit_transform(wtANDmtDf.loc[:,cpFeatures4scale].astype('float64'))\n",
    "wtANDmtDf_scaled[cpFeatures4scale]=wtANDmt\n",
    "\n",
    "nSampleSCs=6;boxSize=160;\n",
    "\n",
    "\n",
    "nClus=8\n",
    "kmeans = KMeans(n_clusters=nClus, random_state=0).fit(wtANDmtDf_scaled[cpFeatures4scale].values)\n",
    "clusterLabels=kmeans.labels_\n",
    "distances=kmeans.fit_transform(wtANDmtDf_scaled[cpFeatures4scale].values)\n",
    "wtANDmtDf_scaled['clusterLabels']=clusterLabels;\n",
    "wtANDmtDf_scaled['dist2Mean']=np.min(distances,1);\n",
    "\n",
    "DirsDict={}\n",
    "DirsDict['root']=images_dir\n",
    "DirsDict['resDir']=res_dir+controlLabel+'-'+drugLabel\n",
    "\n",
    "clusteringHists(DirsDict,wtANDmtDf_scaled,controlLabel,drugLabel,nClus,cpFeatures4scale,channels,boxSize)\n"
   ]
  },
  {
   "cell_type": "code",
   "execution_count": null,
   "metadata": {},
   "outputs": [],
   "source": []
  },
  {
   "cell_type": "code",
   "execution_count": null,
   "metadata": {},
   "outputs": [],
   "source": []
  }
 ],
 "metadata": {
  "kernelspec": {
   "display_name": "Python 3",
   "language": "python",
   "name": "python3"
  },
  "language_info": {
   "codemirror_mode": {
    "name": "ipython",
    "version": 3
   },
   "file_extension": ".py",
   "mimetype": "text/x-python",
   "name": "python",
   "nbconvert_exporter": "python",
   "pygments_lexer": "ipython3",
   "version": "3.6.10"
  },
  "latex_envs": {
   "LaTeX_envs_menu_present": true,
   "autoclose": false,
   "autocomplete": true,
   "bibliofile": "biblio.bib",
   "cite_by": "apalike",
   "current_citInitial": 1,
   "eqLabelWithNumbers": true,
   "eqNumInitial": 1,
   "hotkeys": {
    "equation": "Ctrl-E",
    "itemize": "Ctrl-I"
   },
   "labels_anchors": false,
   "latex_user_defs": false,
   "report_style_numbering": false,
   "user_envs_cfg": false
  },
  "varInspector": {
   "cols": {
    "lenName": 16,
    "lenType": 16,
    "lenVar": 40
   },
   "kernels_config": {
    "python": {
     "delete_cmd_postfix": "",
     "delete_cmd_prefix": "del ",
     "library": "var_list.py",
     "varRefreshCmd": "print(var_dic_list())"
    },
    "r": {
     "delete_cmd_postfix": ") ",
     "delete_cmd_prefix": "rm(",
     "library": "var_list.r",
     "varRefreshCmd": "cat(var_dic_list()) "
    }
   },
   "types_to_exclude": [
    "module",
    "function",
    "builtin_function_or_method",
    "instance",
    "_Feature"
   ],
   "window_display": false
  }
 },
 "nbformat": 4,
 "nbformat_minor": 4
}

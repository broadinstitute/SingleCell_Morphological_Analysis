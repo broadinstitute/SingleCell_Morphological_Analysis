{
 "cells": [
  {
   "cell_type": "markdown",
   "metadata": {},
   "source": [
    "## Clustering cells in different groups and visualize the enrichment of each category in each cluster\n",
    "\n",
    "\n",
    "#### Steps:\n",
    "\n",
    "- will be added (to do)\n",
    "  "
   ]
  },
  {
   "cell_type": "code",
   "execution_count": 1,
   "metadata": {},
   "outputs": [],
   "source": [
    "%matplotlib notebook\n",
    "%load_ext autoreload\n",
    "%autoreload 2\n",
    "import pandas as pd\n",
    "import numpy as np\n",
    "import seaborn as sns\n",
    "sns.set(color_codes=True)\n",
    "import matplotlib.pyplot as plt\n",
    "import pickle\n",
    "import os\n",
    "from sklearn.cluster import KMeans\n",
    "from singlecell.read import read_single_cell_sql\n",
    "from singlecell.process import extract_single_cell_samples\n",
    "from singlecell.visualize import visualize_n_SingleCell, cluster\n",
    "from singlecell.process.normalize_funcs import *\n",
    "from singlecell.preprocess import filter_out_edge_single_cells, extract_cpfeature_names,handle_nans\n",
    "import time"
   ]
  },
  {
   "cell_type": "code",
   "execution_count": null,
   "metadata": {},
   "outputs": [],
   "source": [
    "# ls /home/ubuntu/bucket/projects/2016_08_01_RadialMitochondriaDistribution_donna/workspace/drugSCprofiles/"
   ]
  },
  {
   "cell_type": "markdown",
   "metadata": {},
   "source": [
    "### Input parameters"
   ]
  },
  {
   "cell_type": "code",
   "execution_count": 6,
   "metadata": {},
   "outputs": [],
   "source": [
    "images_dir=\"/home/ubuntu/bucket/projects/2015_10_05_DrugRepurposing_AravindSubramanian_GolubLab_Broad/2016_04_01_a549_48hr_batch1_compressed/\"\n",
    "res_dir=\"./\"\n",
    "\n",
    "controlLabel='control'\n",
    "drugLabel='drugX'\n"
   ]
  },
  {
   "cell_type": "code",
   "execution_count": null,
   "metadata": {},
   "outputs": [],
   "source": [
    "# ls /home/ubuntu/bucket/projects/2016_08_01_RadialMitochondriaDistribution_donna/workspace/drugSCprofiles"
   ]
  },
  {
   "cell_type": "code",
   "execution_count": null,
   "metadata": {},
   "outputs": [],
   "source": []
  },
  {
   "cell_type": "markdown",
   "metadata": {},
   "source": [
    "### Reading two single cell data dataframes for control and pertX\n",
    "    * This is an example of two single cell dataframe, you may ignore below cell if you have your own inputs"
   ]
  },
  {
   "cell_type": "code",
   "execution_count": 7,
   "metadata": {},
   "outputs": [
    {
     "name": "stdout",
     "output_type": "stream",
     "text": [
      "image_width 2160\n",
      "cp_features: 887\n",
      "len cp_features_analysis/nan cols/low vars: 877 0 10\n",
      "before dropping nan rows:  (8264, 1092)\n",
      "after dropping nan rows:  (8264, 1092)\n"
     ]
    }
   ],
   "source": [
    "fileName=\"/home/ubuntu/bucket/projects/2016_08_01_RadialMitochondriaDistribution_donna/workspace/drugSCprofiles/BRD-A00147595-001-01-5_0.12.pkl\"    \n",
    "pair_dict = pickle.load( open(fileName, \"rb\" ) )\n",
    "df_sc_pert=pair_dict['cp_ss']\n",
    "df_sc_control=pair_dict['cp_ss_control']\n",
    "\n",
    "df_sc_pert[\"label\"]=drugLabel\n",
    "df_sc_control[\"label\"]=\"control\"\n",
    "\n",
    "sc_df = pd.concat([df_sc_pert,df_sc_control],ignore_index=True)\n",
    "sc_df,_ = filter_out_edge_single_cells.edgeCellFilter(sc_df,edge_margin=50);\n",
    "\n",
    "cp_features, cp_features_analysis_0 =  extract_cpfeature_names.extract_cpfeature_names(sc_df);\n",
    "sc_df, cp_features_analysis = handle_nans.handle_nans(sc_df,cp_features_analysis_0,fill_na_method='drop-rows');   \n"
   ]
  },
  {
   "cell_type": "code",
   "execution_count": 6,
   "metadata": {},
   "outputs": [],
   "source": [
    "# standardized_sc_df['Nuclei_Location_Center_X']"
   ]
  },
  {
   "cell_type": "markdown",
   "metadata": {},
   "source": [
    "### Creating \"PathName_Orig\"+channelX column for input dataframe containing the correct location of images"
   ]
  },
  {
   "cell_type": "code",
   "execution_count": 8,
   "metadata": {},
   "outputs": [],
   "source": [
    "images_dir=\"/home/ubuntu/bucket/projects/2015_10_05_DrugRepurposing_AravindSubramanian_GolubLab_Broad/2016_04_01_a549_48hr_batch1_compressed/\"\n",
    "\n",
    "channels=[\"Mito\",\"AGP\",\"DNA\",\"RNA\",\"ER\"]\n",
    "for ch in channels:\n",
    "    sc_df[\"PathName_Orig\"+ch]=images_dir+\"images/\"+sc_df[\"Metadata_Plate\"]\n",
    "    sc_df[\"FileName_Orig\"+ch]=sc_df[\"FileName_Orig\"+ch].apply(lambda x: x.replace(\"tiff\",\"png\"))\n"
   ]
  },
  {
   "cell_type": "code",
   "execution_count": 5,
   "metadata": {},
   "outputs": [
    {
     "data": {
      "text/plain": [
       "'/home/ubuntu/bucket/projects/2015_10_05_DrugRepurposing_AravindSubramanian_GolubLab_Broad/2016_04_01_a549_48hr_batch1_compressed/images/SQ00015196'"
      ]
     },
     "execution_count": 5,
     "metadata": {},
     "output_type": "execute_result"
    }
   ],
   "source": [
    "sc_df[\"PathName_Orig\"+ch].values[0]"
   ]
  },
  {
   "cell_type": "markdown",
   "metadata": {},
   "source": [
    "### Apply Clustering Subpopulation analysis on input data\n",
    "    And:\n",
    "    - save the resulting images in \"res_dir\" path"
   ]
  },
  {
   "cell_type": "code",
   "execution_count": 22,
   "metadata": {
    "scrolled": false
   },
   "outputs": [],
   "source": [
    "%%capture\n",
    "os.system(\"mkdir -p \"+res_dir+controlLabel+'-'+drugLabel)\n",
    "\n",
    "#### standardize cp feature columns\n",
    "feature_scaler='Standard'\n",
    "standardized_sc_df = standardize_df_columns(sc_df,cp_features_analysis,feature_scaler)\n",
    "\n",
    "\n",
    "nSampleSCs=6;\n",
    "boxSize=100;\n",
    "n_clusters=10\n",
    "\n",
    "standardized_sc_df=cluster.add_clustering_index_column(standardized_sc_df,cp_features_analysis,'kmeans',n_clusters);\n",
    "    \n",
    "params={'results_dir':res_dir+controlLabel+'-'+drugLabel,\\\n",
    "        'control_label':controlLabel,\\\n",
    "        'pert_label': drugLabel,\\\n",
    "        'n_clusters':n_clusters,\\\n",
    "        'n_cells_4single_cell_plots':nSampleSCs,\\\n",
    "        'channels_4single_cell_plots':channels,\\\n",
    "        'boxSize_4single_cell_plots': boxSize,\\\n",
    "        'compressed_ims_flag':True,\\\n",
    "        'compressed_im_size':1080,\\\n",
    "        'img_save_format':'.png'}     \n",
    "\n",
    "cluster.subpopulation_clustering_visualization(standardized_sc_df,cp_features_analysis,params)\n"
   ]
  },
  {
   "cell_type": "code",
   "execution_count": 25,
   "metadata": {},
   "outputs": [
    {
     "data": {
      "text/plain": [
       "0.0005"
      ]
     },
     "execution_count": 25,
     "metadata": {},
     "output_type": "execute_result"
    }
   ],
   "source": [
    "1/(20*100)"
   ]
  },
  {
   "cell_type": "code",
   "execution_count": 18,
   "metadata": {},
   "outputs": [],
   "source": [
    "histDiff=[-0.0136275,0.01224709,0.01980404,0.00794258,-0.00012969,-0.02341193,\\\n",
    "-0.01126656,-0.00807546,0.00958956,0.00692786]\n",
    "\n",
    "\n",
    "sortedDiff=[-0.02341193,-0.0136275, -0.01126656,-0.00807546,-0.00012969 ,0.00692786,\\\n",
    "0.00794258,0.00958956,0.01224709,0.01980404]\n",
    "# [0.11226907 0.07026686 0.17827254 0.07737249 0.02731723 0.0571609\n",
    "#  0.1555345  0.08416232 0.0723196  0.16532449]\n",
    "\n",
    "# histDiff [-0.0136275   0.01224709  0.01980404  0.00794258 -0.00012969 -0.02341193\n",
    "#  -0.01126656 -0.00807546  0.00958956  0.00692786]\n",
    "# sortedDiff [-0.02341193 -0.0136275  -0.01126656 -0.00807546 -0.00012969  0.00692786\n",
    "#   0.00794258  0.00958956  0.01224709  0.01980404]\n",
    "# [1, 8, 9, 6, 4, 0, 2, 3, 7, 5]"
   ]
  },
  {
   "cell_type": "code",
   "execution_count": 19,
   "metadata": {},
   "outputs": [
    {
     "data": {
      "text/plain": [
       "-9.99999999907325e-09"
      ]
     },
     "execution_count": 19,
     "metadata": {},
     "output_type": "execute_result"
    }
   ],
   "source": [
    "np.sum(histDiff)"
   ]
  },
  {
   "cell_type": "code",
   "execution_count": 36,
   "metadata": {},
   "outputs": [
    {
     "data": {
      "text/plain": [
       "{5: 0, 0: 1, 6: 2, 7: 3, 4: 4, 9: 5, 3: 6, 8: 7, 1: 8, 2: 9}"
      ]
     },
     "execution_count": 36,
     "metadata": {},
     "output_type": "execute_result"
    }
   ],
   "source": [
    "# map_4ordered_clusters={}\n",
    "map_4ordered_clusters=dict(zip(np.argsort(histDiff), range(10)))\n",
    "map_4ordered_clusters"
   ]
  },
  {
   "cell_type": "code",
   "execution_count": 33,
   "metadata": {},
   "outputs": [
    {
     "data": {
      "text/plain": [
       "5"
      ]
     },
     "execution_count": 33,
     "metadata": {},
     "output_type": "execute_result"
    }
   ],
   "source": [
    "list(np.argsort(histDiff))[0]"
   ]
  },
  {
   "cell_type": "code",
   "execution_count": 23,
   "metadata": {},
   "outputs": [
    {
     "data": {
      "text/plain": [
       "9"
      ]
     },
     "execution_count": 23,
     "metadata": {},
     "output_type": "execute_result"
    }
   ],
   "source": [
    "# np.searchsorted([1,2,3,4,5], [-10, 10, 2, 3])\n",
    "# i\n",
    "\n",
    "for "
   ]
  },
  {
   "cell_type": "code",
   "execution_count": 21,
   "metadata": {},
   "outputs": [
    {
     "name": "stdout",
     "output_type": "stream",
     "text": [
      "[]\n"
     ]
    }
   ],
   "source": [
    "# pd.read_csv(gi).shape\n",
    "ind=[]\n",
    "for i in range(len(histDiff)):\n",
    "    iinndd = np.where(histDiff[i]==sortedDiff)[0].tolist()\n",
    "    for j in range(len(iinndd)):\n",
    "        if iinndd[j] not in ind:\n",
    "            ind=ind+[iinndd[j]]\n",
    "            break\n",
    "            \n",
    "print(ind)"
   ]
  },
  {
   "cell_type": "code",
   "execution_count": 17,
   "metadata": {},
   "outputs": [
    {
     "data": {
      "text/plain": [
       "[]"
      ]
     },
     "execution_count": 17,
     "metadata": {},
     "output_type": "execute_result"
    }
   ],
   "source": [
    "iinndd"
   ]
  },
  {
   "cell_type": "code",
   "execution_count": 16,
   "metadata": {},
   "outputs": [
    {
     "data": {
      "text/plain": [
       "[]"
      ]
     },
     "execution_count": 16,
     "metadata": {},
     "output_type": "execute_result"
    }
   ],
   "source": [
    "iinndd"
   ]
  },
  {
   "cell_type": "markdown",
   "metadata": {},
   "source": [
    "## Subpopulation analysis for pooled data"
   ]
  },
  {
   "cell_type": "code",
   "execution_count": null,
   "metadata": {
    "scrolled": true
   },
   "outputs": [],
   "source": [
    "control_guides.index('TTTTACCTTGTTCACATGGA')"
   ]
  },
  {
   "cell_type": "code",
   "execution_count": null,
   "metadata": {},
   "outputs": [],
   "source": [
    "import glob\n",
    "rootDir='/home/ubuntu/calbucket/projects/2018_11_20_Periscope_Calico/'\n",
    "\n",
    "# batch='20200805_A549_WG_Screen';\n",
    "batch='20210422_6W_CP257';\n",
    "\n",
    "\n",
    "batch_multi_name_dict={'20210422_6W_CP257':'CP257-HeLa-WG',\\\n",
    "                   '20200805_A549_WG_Screen':'CP186-A549-WG'}\n",
    "batchName2=batch_multi_name_dict[batch]\n",
    "sc_files_dir=rootDir+'workspace/software/'+batchName2+'/data/1.profiles/'+batch+'/single_cell/single_cell_by_guide/'\n",
    "im_size=5500 # hardcoded for now, TODO: create a dictionary if this number is different for 257 vs 186\n",
    "\n",
    "### metadata \n",
    "metadata_dir=rootDir+'workspace/metadata/'+batch+'/'\n",
    "metadata_orig= pd.read_csv(metadata_dir+'Barcodes.csv')\n",
    "\n",
    "# input_gene='KRT28'\n",
    "# n_cells=20\n",
    "box_size=100\n",
    "\n",
    "# how we select cells which can be 'random','representative','geometric_median'\n",
    "cell_selection_method='representative'\n",
    "channels=['DNA','Mito','Phalloidin','WGA','ER','Outline']\n",
    "\n",
    "resultsDir='/home/ubuntu/bucket/projects/2018_11_20_Periscope_Calico/workspace/visualizations/'+batch+\\\n",
    "'/subpopulations/'\n",
    "\n",
    "#########################\n",
    "# genes_ls=metadata_orig.gene_symbol.unique().tolist()\n",
    "control_vals='nontargeting'\n",
    "control_guides=metadata_orig[metadata_orig['gene_symbol']==control_vals].sgRNA.unique().tolist()\n",
    "\n",
    "control_guide=control_guides[10]\n",
    "control_file=batch+'_single_cell_normalized_ALLBATCHES__'+control_guide+'_'+control_vals+'.csv.gz'\n",
    "df_control=pd.read_csv(sc_files_dir+control_file);\n",
    "cell_selection_method='random'\n",
    "df_control_subset,cp_features_control = extract_single_cell_samples(df_control,100,cell_selection_method);\n",
    "df_control_subset['label']='control'\n",
    "############################\n",
    "box_size=100\n",
    "im_size=5500\n",
    "n_cells=0\n",
    "cell_selection_method='representative'\n",
    "channels=['DNA','Mito','Phalloidin','WGA','ER','Outline']\n",
    "\n",
    "# genes_ls=metadata_orig.gene_symbol.unique().tolist()\n",
    "# genes_ls=['SFPQ','ITGB5','ELOB','C16orf72','TNPO1','PPP1R3E','NLE1','PSMD3','PRC1',\\\n",
    "# 'NIPBL','DYNC1I2','ILK','LOC102724813','MCM7','FBL','NPIPA2','PSMA6','PSMA5','DCTN5','HSPE1','STIL','ATP6V0B']\n",
    "# genes_ls=['ATP6V0D1']\n",
    "genes_ls=['TOMM20']\n",
    "\n",
    "for igi in range(len(genes_ls)):\n",
    "    input_gene=genes_ls[igi]\n",
    "\n",
    "    gene_guids_ls=glob.glob(sc_files_dir+'*_'+input_gene+'.csv.gz')\n",
    "#     sfdss\n",
    "    for gi in gene_guids_ls:\n",
    "        df_p_s=pd.read_csv(gi);\n",
    "#         channels=['DNA','Mito','Phalloidin','WGA','ER','Outline']\n",
    "#         for ch in channels:\n",
    "#             df_p_s[\"PathName_Corr\"+ch]=rootDir+batch+'/images_corrected_cropped/'+df_p_s[\"Metadata_Foci_plate\"]+'_'+df_p_s[\"Metadata_Foci_well\"]+'/Corr'+ch\n",
    "#             df_p_s[\"FileName_Corr\"+ch]=\"Corr\"+ch+\"_\"+\"Site_\"+df_p_s[\"Metadata_Foci_site_location\"].astype(str)+\".tiff\"\n",
    "\n",
    "#         df_p_s[\"Path_Outlines\"]=rootDir+'workspace/analysis/'+batch+'/'+df_p_s[\"Metadata_Foci_plate\"]+'-'+df_p_s[\"Metadata_Foci_well\"]+'-'+df_p_s[\"Metadata_Foci_site_location\"].astype(str)+'/'\\\n",
    "#         +'/CorrDNA_Site_'+df_p_s[\"Metadata_Foci_site_location\"].astype(str)+'_Overlay.png'\n",
    "\n",
    "#         df_p_s[\"Nuclei_Location_Center_X\"]=df_p_s[\"Cells_AreaShape_Center_X\"];\n",
    "#         df_p_s[\"Nuclei_Location_Center_Y\"]=df_p_s[\"Cells_AreaShape_Center_Y\"];\n",
    "        \n",
    "        \n",
    "        \n",
    "        if df_p_s.shape[0]>100:\n",
    "            n_cells=100\n",
    "            df_samples,cp_features_pert = extract_single_cell_samples(df_p_s,n_cells,cell_selection_method);\n",
    "            cp_features_analysis=list(set(cp_features_control) & set(cp_features_pert))\n",
    "            df_samples['label']=input_gene\n",
    "            df_sc=pd.concat([df_samples,df_control_subset],join='inner',ignore_index=True).drop_duplicates(ignore_index=True)\n",
    "            resdir=resultsDir+input_gene+'/'+gi.split('_')[-2]\n",
    "#             os.system(\"mkdir -p \"+resdir)\n",
    "#             fgsdfd\n",
    "            for ch in channels:\n",
    "                df_sc[\"PathName_Corr\"+ch]=rootDir+batch+'/images_corrected_cropped/'+df_sc[\"Metadata_Foci_plate\"]+'_'+df_sc[\"Metadata_Foci_well\"]+'/Corr'+ch\n",
    "                df_sc[\"FileName_Corr\"+ch]=\"Corr\"+ch+\"_\"+\"Site_\"+df_sc[\"Metadata_Foci_site_location\"].astype(str)+\".tiff\"\n",
    "\n",
    "            df_sc[\"Path_Outlines\"]=rootDir+'workspace/analysis/'+batch+'/'+df_sc[\"Metadata_Foci_plate\"]+'-'+df_sc[\"Metadata_Foci_well\"]+'-'+df_sc[\"Metadata_Foci_site_location\"].astype(str)+'/'\\\n",
    "            +'/CorrDNA_Site_'+df_sc[\"Metadata_Foci_site_location\"].astype(str)+'_Overlay.png'\n",
    "\n",
    "            df_sc[\"Nuclei_Location_Center_X\"]=df_sc[\"Cells_AreaShape_Center_X\"];\n",
    "            df_sc[\"Nuclei_Location_Center_Y\"]=df_sc[\"Cells_AreaShape_Center_Y\"];\n",
    "\n",
    "            df_sc=edgeCellFilter2(df_sc,im_size,box_size/2);\n",
    "            \n",
    "            ################################\n",
    "            nClus=20\n",
    "            kmeans = KMeans(n_clusters=nClus, random_state=0).fit(df_sc[cp_features_analysis].values)\n",
    "            clusterLabels=kmeans.labels_\n",
    "            distances=kmeans.fit_transform(df_sc[cp_features_analysis].values)\n",
    "            df_sc['clusterLabels']=clusterLabels;\n",
    "            df_sc['dist2Mean']=np.min(distances,1);\n",
    "\n",
    "            DirsDict={}\n",
    "            # DirsDict['root']=rootDir\n",
    "            DirsDict['resDir']=resdir\n",
    "\n",
    "            clusteringHists(DirsDict,df_sc,'control',input_gene,nClus,cp_features_analysis,channels,box_size,pooled=True)\n",
    "            plt.close('all')\n",
    "            \n",
    "        else:\n",
    "            print(df_p_s.shape[0], \" number of single cells is less than the threshold for doing the analysis!\")"
   ]
  },
  {
   "cell_type": "code",
   "execution_count": null,
   "metadata": {},
   "outputs": [],
   "source": [
    "# df_control.columns[df_control.columns.str.contains(\"Align_Xshift_\")].tolist()\n",
    "# gene_guids_ls\n",
    "# input_gene\n",
    "# df_sc=\n",
    "# pd.concat([df_samples,df_control_subset], join='inner',ignore_index=True).drop_duplicates(ignore_index=True)\n",
    "# df_control_subset\n",
    "# df_sc\n",
    "# clusteringHists(DirsDict,df_sc,'control',input_gene,nClus,cp_features_analysis,channels,box_size,pooled=True)\n",
    "# igi\n",
    "gene_guids_ls"
   ]
  },
  {
   "cell_type": "code",
   "execution_count": null,
   "metadata": {},
   "outputs": [],
   "source": [
    "gene_guids_ls"
   ]
  },
  {
   "cell_type": "code",
   "execution_count": null,
   "metadata": {},
   "outputs": [],
   "source": [
    "# df_control_subset.shape\n",
    "# df_sc['label']\n",
    "# input_gene\n",
    "# df_sc\n",
    "# sc_files_dir+'*_'+input_gene+'.csv.gz'\n",
    "# for ch in channels:\n",
    "#     print(df_sc[\"PathName_Corr\"+ch].values)\n",
    "# pd.concat([df_samples,df_control_subset],ignore_index=True).drop_duplicates(ignore_index=True).shape\n",
    "df_sc.shape"
   ]
  },
  {
   "cell_type": "code",
   "execution_count": null,
   "metadata": {},
   "outputs": [],
   "source": [
    "input_gene"
   ]
  },
  {
   "cell_type": "code",
   "execution_count": null,
   "metadata": {},
   "outputs": [],
   "source": []
  },
  {
   "cell_type": "code",
   "execution_count": null,
   "metadata": {},
   "outputs": [],
   "source": [
    "df_p_s.shape"
   ]
  },
  {
   "cell_type": "code",
   "execution_count": null,
   "metadata": {},
   "outputs": [],
   "source": [
    "rootDir+'workspace/analysis/'+batch+'/'+df_samples[\"Metadata_Foci_plate\"]+'-'+df_samples[\"Metadata_Foci_well\"]+'-'+df_samples[\"Metadata_Foci_site_location\"].astype(str)+'/'\\\n",
    "        +'/CorrDNA_Site_'+df_samples[\"Metadata_Foci_site_location\"].astype(str)+'_Overlay.png'"
   ]
  },
  {
   "cell_type": "code",
   "execution_count": null,
   "metadata": {},
   "outputs": [],
   "source": [
    "rootDir+'workspace/analysis/'+batch+'/'+df_control_subset[\"Metadata_Foci_plate\"]+'-'+df_control_subset[\"Metadata_Foci_well\"]+'-'+df_control_subset[\"Metadata_Foci_site_location\"].astype(str)+'/'\\\n",
    "        +'/CorrDNA_Site_'+df_control_subset[\"Metadata_Foci_site_location\"].astype(str)+'_Overlay.png'"
   ]
  },
  {
   "cell_type": "code",
   "execution_count": null,
   "metadata": {},
   "outputs": [],
   "source": [
    "df_control_subset.shape,df_p_s.shape"
   ]
  },
  {
   "cell_type": "code",
   "execution_count": null,
   "metadata": {},
   "outputs": [],
   "source": [
    "# 20200805_A549_WG_Screen_single_cell_normalized_ALLBATCHES__TTCTTAGAAGTTGCTCCACG_nontargeting.csv.gz\n",
    "# 20200805_A549_WG_Screen_single_cell_normalized_ALLBATCHES__TTCTTAGAAGTTGCTCCACG_nontargeting.csv.gz\n",
    "# metadata_orig[metadata_orig['gene_symbol']=='nontargeting'].sgRNA.unique()\n",
    "# gene_guids_ls=glob.glob(sc_files_dir+'*_nontargeting.csv.gz')\n",
    "# 20200805_A549_WG_Screen_single_cell_normalized_ALLBATCHES__TTCTTAGAAGTTGCTCCACG_nontargeting.csv"
   ]
  },
  {
   "cell_type": "code",
   "execution_count": null,
   "metadata": {},
   "outputs": [],
   "source": [
    "with open('./utils/blackListFeatures.pkl', 'rb') as f:\n",
    "    blackListFeatures = pickle.load(f)"
   ]
  },
  {
   "cell_type": "code",
   "execution_count": null,
   "metadata": {},
   "outputs": [],
   "source": [
    "mynewlist"
   ]
  },
  {
   "cell_type": "code",
   "execution_count": null,
   "metadata": {},
   "outputs": [],
   "source": []
  }
 ],
 "metadata": {
  "kernelspec": {
   "display_name": "Python 3 (ipykernel)",
   "language": "python",
   "name": "python3"
  },
  "language_info": {
   "codemirror_mode": {
    "name": "ipython",
    "version": 3
   },
   "file_extension": ".py",
   "mimetype": "text/x-python",
   "name": "python",
   "nbconvert_exporter": "python",
   "pygments_lexer": "ipython3",
   "version": "3.8.12"
  },
  "latex_envs": {
   "LaTeX_envs_menu_present": true,
   "autoclose": false,
   "autocomplete": true,
   "bibliofile": "biblio.bib",
   "cite_by": "apalike",
   "current_citInitial": 1,
   "eqLabelWithNumbers": true,
   "eqNumInitial": 1,
   "hotkeys": {
    "equation": "Ctrl-E",
    "itemize": "Ctrl-I"
   },
   "labels_anchors": false,
   "latex_user_defs": false,
   "report_style_numbering": false,
   "user_envs_cfg": false
  },
  "varInspector": {
   "cols": {
    "lenName": 16,
    "lenType": 16,
    "lenVar": 40
   },
   "kernels_config": {
    "python": {
     "delete_cmd_postfix": "",
     "delete_cmd_prefix": "del ",
     "library": "var_list.py",
     "varRefreshCmd": "print(var_dic_list())"
    },
    "r": {
     "delete_cmd_postfix": ") ",
     "delete_cmd_prefix": "rm(",
     "library": "var_list.r",
     "varRefreshCmd": "cat(var_dic_list()) "
    }
   },
   "types_to_exclude": [
    "module",
    "function",
    "builtin_function_or_method",
    "instance",
    "_Feature"
   ],
   "window_display": false
  }
 },
 "nbformat": 4,
 "nbformat_minor": 4
}

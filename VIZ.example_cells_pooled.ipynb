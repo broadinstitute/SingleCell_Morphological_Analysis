{
 "cells": [
  {
   "cell_type": "markdown",
   "metadata": {},
   "source": [
    "## Visualizing single cell examples for pooled data\n",
    "- Inputs are:\n",
    "  - REQUIRED:\n",
    "    -  **Input_gene_or_guide** - (str), it can be a string of gene symbol or guide (20 chars)\n",
    "        - e.g., 'KRT28' or 'GTTGAAGAGCTAGATCAACG'\n",
    "    -  **batch_name** - (str) batch name\n",
    "        - e.g., '20200805_A549_WG_Screen' \n",
    "    - **rootDir** - image, metadata and overlays address is following the structure of dirs in the s3 bucket so we need to fix the root directory and everything else is being formed accroding to the s3 bucket structure \n",
    "        - e.g., '/home/ubuntu/calbucket/projects/2018_11_20_Periscope_Calico/'\n",
    "  - OPTIONAL:\n",
    "    -  **n_cells** - (int), number of single cells to be visualized, it is ignored if cell_selection_method is geometric_median\n",
    "    -  **box_size** - (int), size of box in pixels for cropping a cell    \n",
    "    -  **channels** - (list), list of channels you want to plot\n",
    "        - e.g., ['DNA','Mito','Phalloidin','WGA','ER','Outline'] \n",
    "    -  **cell_selection_method** - (str) can be one of the following methods\n",
    "        - random - generate n randomly selected cells\n",
    "        - representative - clusters the data and sample from the \"closest to mean cluster\"\n",
    "        - geometric_median - plots single sample than is the geometric median of samples\n",
    "        \n",
    "        \n",
    "###  Run time:\n",
    "\n",
    "- For random cells (n_cells=6) -> ~ 3-4 mins\n",
    "- For representative cells (For )  -> ~ 3-4 mins\n",
    "- For geometric median (for calculate the gm from 1500 random subset of total cells) -> ~ 3 mins\n",
    "  "
   ]
  },
  {
   "cell_type": "code",
   "execution_count": null,
   "metadata": {},
   "outputs": [],
   "source": [
    "%matplotlib notebook\n",
    "%load_ext autoreload\n",
    "%autoreload 2\n",
    "import pandas as pd\n",
    "import numpy as np\n",
    "import seaborn as sns\n",
    "sns.set(color_codes=True)\n",
    "from sklearn import preprocessing\n",
    "import matplotlib.pyplot as plt\n",
    "from singlecell.read import read_single_cell_sql\n",
    "from singlecell.process import extract_single_cell_samples\n",
    "from singlecell.visualize import visualize_n_SingleCell\n",
    "from singlecell.preprocess.filter_out_edge_single_cells import edgeCellFilter\n",
    "import pooled_cell_painting_single_cell_visualization\n",
    "import time\n",
    "import gc"
   ]
  },
  {
   "cell_type": "markdown",
   "metadata": {},
   "source": [
    "## Visualize single cells for the input gene of guide"
   ]
  },
  {
   "cell_type": "code",
   "execution_count": null,
   "metadata": {},
   "outputs": [],
   "source": [
    "%%time\n",
    "\n",
    "input_gene_or_guide='KRT28'\n",
    "# input_gene_or_guide='GTTGAAGAGCTAGATCAACG'\n",
    "\n",
    "# ########################## set directories\n",
    "## CP186\n",
    "# batch='20200805_A549_WG_Screen';\n",
    "\n",
    "## CP257\n",
    "batch='20210422_6W_CP257';\n",
    "\n",
    "\n",
    "########################## set directories\n",
    "rootDir='/home/ubuntu/calbucket/projects/2018_11_20_Periscope_Calico/'\n",
    "\n",
    "batch_multi_name_dict={'20210422_6W_CP257':'CP257-HeLa-WG',\\\n",
    "                       '20200805_A549_WG_Screen':'CP186-A549-WG'}\n",
    "batchName2=batch_multi_name_dict[batch]\n",
    "sc_files_dir=rootDir+'workspace/software/'+batchName2+'/data/1.profiles/'+batch+'/single_cell/\\\n",
    "single_cell_by_guide/'\n",
    "im_size=5500 # hardcoded for now, TODO: create a dictionary if this number is different for 257 vs 186\n",
    "\n",
    "#################### options for parameters to set\n",
    "n_cells=6\n",
    "box_size=100\n",
    "\n",
    "# how we select cells which can be 'random','representative','geometric_median'\n",
    "cell_selection_method='geometric_median'\n",
    "\n",
    "channels=['DNA','Mito','Phalloidin','WGA','ER','Outline']\n",
    "\n",
    "##################### read metadata and create the file name for input guide or gene\n",
    "metadata_dir=rootDir+'workspace/metadata/'+batch+'/'\n",
    "metadata_orig= pd.read_csv(metadata_dir+'Barcodes.csv')\n",
    "\n",
    "input_matched_rows = metadata_orig[(metadata_orig['gene_symbol']==input_gene_or_guide) | (metadata_orig['sgRNA']==input_gene_or_guide)]\n",
    "gene=input_matched_rows.gene_symbol.unique().tolist()[0]\n",
    "guides_ls=input_matched_rows.sgRNA.unique().tolist()\n",
    "\n",
    "all_guides_gms_ls=[]\n",
    "# gene_guids_ls=glob.glob(sc_files_dir+'*_'+input_gene+'.csv.gz')\n",
    "gene_guids_ls=[sc_files_dir+batch+'_single_cell_normalized_ALLBATCHES__'+gi+'_'+gene+'.csv.gz' for gi in guides_ls]\n",
    "\n",
    "for gi in gene_guids_ls:\n",
    "    df_p_s=pd.read_csv(gi);\n",
    "\n",
    "    for ch in channels:\n",
    "        df_p_s[\"PathName_Corr\"+ch]=rootDir+batch+'/images_corrected_cropped/'+df_p_s[\"Metadata_Foci_plate\"]+'_'+df_p_s[\"Metadata_Foci_well\"]+'/Corr'+ch\n",
    "        df_p_s[\"FileName_Corr\"+ch]=\"Corr\"+ch+\"_\"+\"Site_\"+df_p_s[\"Metadata_Foci_site_location\"].astype(str)+\".tiff\"\n",
    "\n",
    "    df_p_s[\"Path_Outlines\"]=rootDir+'workspace/analysis/'+batch+'/'+df_p_s[\"Metadata_Foci_plate\"]+'-'+df_p_s[\"Metadata_Foci_well\"]+'-'+df_p_s[\"Metadata_Foci_site_location\"].astype(str)+'/'\\\n",
    "    +'/CorrDNA_Site_'+df_p_s[\"Metadata_Foci_site_location\"].astype(str)+'_Overlay.png'\n",
    "\n",
    "    df_p_s[\"Nuclei_Location_Center_X\"]=df_p_s[\"Cells_AreaShape_Center_X\"];\n",
    "    df_p_s[\"Nuclei_Location_Center_Y\"]=df_p_s[\"Cells_AreaShape_Center_Y\"];\n",
    "\n",
    "    df_p_s=edgeCellFilter2(df_p_s,im_size,box_size/2);\n",
    "\n",
    "    if df_p_s.shape[0]>0:\n",
    "        df_samples,cp_features_analysis = extract_single_cell_samples(df_p_s.sample(n = np.min([1500,df_p_s.shape[0]]),\\\n",
    "                        replace = False).reset_index(drop=True),n_cells,cell_selection_method);\n",
    "        all_guides_gms_ls.append(df_samples)\n",
    "\n",
    "df_p_s_all=pd.concat(all_guides_gms_ls,ignore_index=True).drop_duplicates(ignore_index=True)    \n",
    "\n",
    "if len(gene_guids_ls)>1 and df_p_s_all.shape[0]>n_cells:\n",
    "    df_samples=df_p_s_all.sample(n = np.min([n_cells,df_p_s_all.shape[0]]),replace = False).reset_index(drop=True)\n",
    "    \n",
    "else:\n",
    "    df_samples=df_p_s_all.copy()\n",
    "\n",
    "################  visualize cells\n",
    "\n",
    "f=visualize_n_SingleCell_pooled(channels,df_samples,box_size,im_size,title=input_gene_or_guide+'_'+cell_selection_method);"
   ]
  },
  {
   "cell_type": "code",
   "execution_count": null,
   "metadata": {},
   "outputs": [],
   "source": [
    "# df_samples\n",
    "# f=visualize_n_SingleCell_pooled(channels,df_samples,box_size,im_size,title=input_gene_or_guide+'_'+cell_selection_method);"
   ]
  },
  {
   "cell_type": "code",
   "execution_count": null,
   "metadata": {},
   "outputs": [],
   "source": [
    "np.__version__"
   ]
  },
  {
   "cell_type": "code",
   "execution_count": null,
   "metadata": {},
   "outputs": [],
   "source": [
    "# visualize_n_SingleCell_pooled(channels,df_samples,box_size,im_size,title=cell_selection_method);\n",
    "# df_samples\n",
    "# df_p_s"
   ]
  },
  {
   "cell_type": "code",
   "execution_count": null,
   "metadata": {},
   "outputs": [],
   "source": [
    "df_p_s[df_p_s.columns[df_p_s.columns.str.contains('Alig')]]"
   ]
  },
  {
   "cell_type": "code",
   "execution_count": null,
   "metadata": {},
   "outputs": [],
   "source": [
    "def pooled_cell_painting_single_cell_visualization(input_gene_or_guide,batch,rootDir,\\\n",
    "            n_cells=6,box_size=100,channels=['DNA','Mito','Phalloidin','WGA','ER','Outline'],\\\n",
    "                                                   cell_selection_method='random'):\n",
    "    \n",
    "\n",
    "    ########################## set directories\n",
    "#     batch='20200805_A549_WG_Screen';\n",
    "#     rootDir='/home/ubuntu/calbucket/projects/2018_11_20_Periscope_Calico/'\n",
    "    sc_files_dir=rootDir+'workspace/software/CP186-A549-WG/data/1.profiles/20200805_A549_WG_Screen/single_cell/single_cell_by_guide/'\n",
    "\n",
    "    im_size=5500 # hardcoded for now, TODO: create a dictionary if this number is different for 257\n",
    "\n",
    "    ##################### read metadata and create the file name for input guide or gene\n",
    "    metadata_dir=rootDir+'workspace/metadata/'+batch+'/'\n",
    "    metadata_orig= pd.read_csv(metadata_dir+'Barcodes.csv')\n",
    "\n",
    "    input_matched_rows = metadata_orig[(metadata_orig['gene_symbol']==input_gene_or_guide) | (metadata_orig['sgRNA']==input_gene_or_guide)]\n",
    "    gene=input_matched_rows.gene_symbol.unique().tolist()[0]\n",
    "    guides_ls=input_matched_rows.sgRNA.unique().tolist()\n",
    "\n",
    "    all_guides_gms_ls=[]\n",
    "    # gene_guids_ls=glob.glob(sc_files_dir+'*_'+input_gene+'.csv.gz')\n",
    "    gene_guids_ls=[sc_files_dir+batch+'_single_cell_normalized_ALLBATCHES__'+gi+'_'+gene+'.csv.gz' for gi in guides_ls]\n",
    "\n",
    "    for gi in gene_guids_ls:\n",
    "        df_p_s=pd.read_csv(gi);\n",
    "\n",
    "        for ch in channels:\n",
    "            df_p_s[\"PathName_Corr\"+ch]=rootDir+batch+'/images_corrected_cropped/'+df_p_s[\"Metadata_Foci_plate\"]+'_'+df_p_s[\"Metadata_Foci_well\"]+'/Corr'+ch\n",
    "            df_p_s[\"FileName_Corr\"+ch]=\"Corr\"+ch+\"_\"+\"Site_\"+df_p_s[\"Metadata_Foci_site_location\"].astype(str)+\".tiff\"\n",
    "\n",
    "        df_p_s[\"Path_Outlines\"]=rootDir+'workspace/analysis/'+batch+'/'+df_p_s[\"Metadata_Foci_plate\"]+'-'+df_p_s[\"Metadata_Foci_well\"]+'-'+df_p_s[\"Metadata_Foci_site_location\"].astype(str)+'/'\\\n",
    "        +'/CorrDNA_Site_'+df_p_s[\"Metadata_Foci_site_location\"].astype(str)+'_Overlay.png'\n",
    "\n",
    "        df_p_s[\"Nuclei_Location_Center_X\"]=df_p_s[\"Cells_AreaShape_Center_X\"];\n",
    "        df_p_s[\"Nuclei_Location_Center_Y\"]=df_p_s[\"Cells_AreaShape_Center_Y\"];\n",
    "\n",
    "        df_p_s=edgeCellFilter2(df_p_s,im_size,box_size/2);\n",
    "\n",
    "        if df_p_s.shape[0]>0:\n",
    "            df_samples,cp_features_analysis = extract_single_cell_samples(df_p_s.sample(n = np.min([1500,df_p_s.shape[0]]),\\\n",
    "                            replace = False).reset_index(drop=True),n_cells,cell_selection_method);\n",
    "            all_guides_gms_ls.append(df_samples)\n",
    "\n",
    "    df_p_s_all=pd.concat(all_guides_gms_ls,ignore_index=True).drop_duplicates(ignore_index=True)    \n",
    "\n",
    "    if len(gene_guids_ls)>1 and df_p_s_all.shape[0]>n_cells:\n",
    "        df_samples=df_p_s_all.sample(n = np.min([n_cells,df_p_s_all.shape[0]]),replace = False).reset_index(drop=True)\n",
    "\n",
    "    else:\n",
    "        df_samples=df_p_s_all.copy()\n",
    "\n",
    "    ################  visualize cells\n",
    "\n",
    "    return visualize_n_SingleCell_pooled(channels,df_samples,box_size,im_size,title=input_gene_or_guide+'_'+cell_selection_method);\n",
    "\n",
    "\n",
    "input_gene_or_guide='KRT28'\n",
    "# input_gene_or_guide='GTTGAAGAGCTAGATCAACG'\n",
    "\n",
    "batch='20200805_A549_WG_Screen';\n",
    "rootDir='/home/ubuntu/calbucket/projects/2018_11_20_Periscope_Calico/'\n",
    "\n",
    "\n",
    "pooled_cell_painting_single_cell_visualization(input_gene_or_guide,batch,rootDir);"
   ]
  },
  {
   "cell_type": "code",
   "execution_count": null,
   "metadata": {},
   "outputs": [],
   "source": [
    "# metadaDataFiles\n",
    "# metadata_orig\n",
    "# df_p_s.columns\n",
    "# df_p_s[df_p_s.eq(5500).any(1)]"
   ]
  },
  {
   "cell_type": "code",
   "execution_count": null,
   "metadata": {},
   "outputs": [],
   "source": [
    "# os.listdir(\"/home/ubuntu/calbucket/projects/2018_11_20_Periscope_Calico/workspace/software/CP257-HeLa-WG/data/1.profiles/20210422_6W_CP257/single_cell/\")"
   ]
  },
  {
   "cell_type": "code",
   "execution_count": null,
   "metadata": {},
   "outputs": [],
   "source": [
    "# python restore_intelligent.py imaging-platform \"projects/2015_10_05_DrugRepurposing_AravindSubramanian_GolubLab_Broad/workspace/backend/2016_04_01_a549_48hr_batch1/SQ00015195/\""
   ]
  },
  {
   "cell_type": "markdown",
   "metadata": {},
   "source": [
    "### Read single cell data per guide takes ~1 mins"
   ]
  },
  {
   "cell_type": "code",
   "execution_count": null,
   "metadata": {},
   "outputs": [],
   "source": [
    "%%time\n",
    "file_name='/home/ubuntu/calbucket/projects/2018_11_20_Periscope_Calico/workspace/\\\n",
    "software/CP186-A549-WG/data/1.profiles/20200805_A549_WG_Screen/single_cell/\\\n",
    "single_cell_by_guide/20200805_A549_WG_Screen_single_cell_normalized_ALLBATCHES__GTTGAAGAGCTAGATCAACG_KRT28.csv.gz'\n",
    "df_p_s0=pd.read_csv(file_name);\n",
    "df_p_s0.head()"
   ]
  },
  {
   "cell_type": "code",
   "execution_count": null,
   "metadata": {},
   "outputs": [],
   "source": [
    "# df_p_s0[df_p_s0.columns[df_p_s0.columns.str.contains('utline')]]\n",
    "# df_p_s0.columns[df_p_s0.columns.str.contains('uid')]"
   ]
  },
  {
   "cell_type": "code",
   "execution_count": null,
   "metadata": {},
   "outputs": [],
   "source": [
    "# df_p_s0['Cells_AreaShape_Center_X'].describe()"
   ]
  },
  {
   "cell_type": "code",
   "execution_count": null,
   "metadata": {},
   "outputs": [],
   "source": [
    "# visualize_n_SingleCell_pooled(channels,df_samples,box_size,im_size,title=cell_selection_method);"
   ]
  },
  {
   "cell_type": "markdown",
   "metadata": {},
   "source": [
    "### Unarchive needed data"
   ]
  },
  {
   "cell_type": "code",
   "execution_count": null,
   "metadata": {},
   "outputs": [],
   "source": [
    "# def unarchive_file(f2unarchive,bucket_name,user_profile):\n",
    "#     \"\"\"\n",
    "#     unarchive input file\n",
    "\n",
    "#     Inputs:\n",
    "#     bucket_name: eg, pooled-cell-painting, imaging-plateform\n",
    "#     user_profile: profile name that is used for accessing the above bucket (check in sudo vim ~/.aws/credentials)\n",
    "#     proj_path: path to the project eg,2018_11_20_Periscope_Calico/workspace/analysis/\n",
    "\n",
    "#     output:\n",
    "#     command to run\n",
    "#     \"\"\"\n",
    "\n",
    "#     cmd='aws s3api  restore-object  --profile '+user_profile+\\\n",
    "#             ' --bucket '+bucket_name+'  --key projects/2018_11_20_Periscope_Calico/workspace/analysis/'+f2unarchive+'   --restore-request GlacierJobParameters={\"Tier\"=\"Standard\"}'\n",
    "#     return cmd\n",
    "import os\n",
    "user_profile='calico'\n",
    "bucket_name='pooled-cell-painting'\n",
    "rootDir='/home/ubuntu/calbucket/projects/2018_11_20_Periscope_Calico/'\n",
    "# for p in plates:\n",
    "#     for w in wells:\n",
    "#         for s in sites:\n",
    "# batch='20200805_A549_WG_Screen';\n",
    "\n",
    "batch='20210422_6W_CP257'\n",
    "plate_well_dirs_ls=os.listdir(rootDir+'/workspace/analysis/'+batch)\n",
    "for di in plate_well_dirs_ls:\n",
    "    f2unarchive='workspace/analysis/'+batch+'/'+di+'/CorrDNA_Site_'+di.split('-')[-1]+'_Overlay.png'\n",
    "    if os.path.exists(rootDir+f2unarchive):\n",
    "        cmd='aws s3api  restore-object  --profile '+user_profile+\\\n",
    "        ' --bucket '+bucket_name+'  --key projects/2018_11_20_Periscope_Calico/'+\\\n",
    "        f2unarchive+'   --restore-request GlacierJobParameters={\"Tier\"=\"Standard\"}'\n",
    "        print(cmd)\n",
    "        os.system(cmd)"
   ]
  },
  {
   "cell_type": "code",
   "execution_count": null,
   "metadata": {},
   "outputs": [],
   "source": [
    "# unarchive image folders\n",
    "plate_well_ls=os.listdir('/home/ubuntu/calbucket/projects/2018_11_20_Periscope_Calico/20210422_6W_CP257/images_corrected_cropped')\n",
    "# python restore_intelligent.py pooled-cell-painting \"projects/2018_11_20_Periscope_Calico/20200805_A549_WG_Screen/images_corrected_cropped/\"\n",
    "channels=['DNA','Mito','Phalloidin','WGA','ER']\n",
    "\n",
    "for pli in plate_well_ls:\n",
    "    for chi in channels:\n",
    "        os.system('python ~/imaging-backup-scripts/restore_intelligent.py pooled-cell-painting \"projects/2018_11_20_Periscope_Calico/20210422_6W_CP257/images_corrected_cropped/'+\\\n",
    "pli+'/Corr'+chi+'\"')"
   ]
  },
  {
   "cell_type": "code",
   "execution_count": null,
   "metadata": {},
   "outputs": [],
   "source": [
    "plate_well_dirs_ls[0].split('-')[-1]"
   ]
  },
  {
   "cell_type": "code",
   "execution_count": null,
   "metadata": {},
   "outputs": [],
   "source": [
    "# plate_well_ls"
   ]
  },
  {
   "cell_type": "code",
   "execution_count": null,
   "metadata": {},
   "outputs": [],
   "source": []
  },
  {
   "cell_type": "markdown",
   "metadata": {},
   "source": [
    "## Plot geometric median of all guides of an input gene"
   ]
  },
  {
   "cell_type": "code",
   "execution_count": null,
   "metadata": {},
   "outputs": [],
   "source": [
    "%%capture\n",
    "import glob\n",
    "rootDir='/home/ubuntu/calbucket/projects/2018_11_20_Periscope_Calico/'\n",
    "\n",
    "# batch='20200805_A549_WG_Screen';\n",
    "batch='20210422_6W_CP257';\n",
    "\n",
    "\n",
    "batch_multi_name_dict={'20210422_6W_CP257':'CP257-HeLa-WG',\\\n",
    "                   '20200805_A549_WG_Screen':'CP186-A549-WG'}\n",
    "batchName2=batch_multi_name_dict[batch]\n",
    "sc_files_dir=rootDir+'workspace/software/'+batchName2+'/data/1.profiles/'+batch+'/single_cell/single_cell_by_guide/'\n",
    "im_size=5500 # hardcoded for now, TODO: create a dictionary if this number is different for 257 vs 186\n",
    "\n",
    "### metadata \n",
    "metadata_dir=rootDir+'workspace/metadata/'+batch+'/'\n",
    "metadata_orig= pd.read_csv(metadata_dir+'Barcodes.csv')\n",
    "\n",
    "# input_gene='KRT28'\n",
    "n_cells=10\n",
    "box_size=100\n",
    "\n",
    "# how we select cells which can be 'random','representative','geometric_median'\n",
    "cell_selection_method='geometric_median'\n",
    "channels=['DNA','Mito','Phalloidin','WGA','ER','Outline']\n",
    "\n",
    "genes_ls=metadata_orig.gene_symbol.unique().tolist()\n",
    "\n",
    "for igi in range(9248,len(genes_ls)):\n",
    "    input_gene=genes_ls[igi]\n",
    "    all_guides_gms_ls=[]\n",
    "    gene_guids_ls=glob.glob(sc_files_dir+'*_'+input_gene+'.csv.gz')\n",
    "    for gi in gene_guids_ls:\n",
    "        df_p_s=pd.read_csv(gi);\n",
    "        \n",
    "        for ch in channels:\n",
    "            df_p_s[\"PathName_Corr\"+ch]=rootDir+batch+'/images_corrected_cropped/'+df_p_s[\"Metadata_Foci_plate\"]+'_'+df_p_s[\"Metadata_Foci_well\"]+'/Corr'+ch\n",
    "            df_p_s[\"FileName_Corr\"+ch]=\"Corr\"+ch+\"_\"+\"Site_\"+df_p_s[\"Metadata_Foci_site_location\"].astype(str)+\".tiff\"\n",
    "\n",
    "        df_p_s[\"Path_Outlines\"]=rootDir+'workspace/analysis/'+batch+'/'+df_p_s[\"Metadata_Foci_plate\"]+'-'+df_p_s[\"Metadata_Foci_well\"]+'-'+df_p_s[\"Metadata_Foci_site_location\"].astype(str)+'/'\\\n",
    "        +'/CorrDNA_Site_'+df_p_s[\"Metadata_Foci_site_location\"].astype(str)+'_Overlay.png'\n",
    "\n",
    "        df_p_s[\"Nuclei_Location_Center_X\"]=df_p_s[\"Cells_AreaShape_Center_X\"];\n",
    "        df_p_s[\"Nuclei_Location_Center_Y\"]=df_p_s[\"Cells_AreaShape_Center_Y\"];\n",
    "        \n",
    "        df_p_s,_=edgeCellFilter(df_p_s,image_width=im_size,edge_margin=box_size/2);\n",
    "\n",
    "        if df_p_s.shape[0]>0:\n",
    "            df_samples,cp_features_analysis = extract_single_cell_samples.extract_single_cell_samples(df_p_s.sample(n = np.min([1000,df_p_s.shape[0]]),\\\n",
    "                            replace = False).reset_index(drop=True),n_cells,cell_selection_method);\n",
    "            all_guides_gms_ls.append(df_samples)\n",
    "\n",
    "    all_guides_gms_df=pd.concat(all_guides_gms_ls,ignore_index=True).drop_duplicates(ignore_index=True)\n",
    "    \n",
    "    if all_guides_gms_df.shape[0]==1:\n",
    "        all_guides_gms_df=pd.concat([all_guides_gms_df]*2, ignore_index=True)    \n",
    "    \n",
    "    fig=visualize_n_SingleCell.visualize_n_SingleCell_pooled(channels,all_guides_gms_df,box_size,im_size,title=input_gene+'_'+cell_selection_method);\n",
    "    \n",
    "#     sgsfs\n",
    "    \n",
    "    resultsDir='/home/ubuntu/calbucket/projects/2018_11_20_Periscope_Calico/workspace/visualizations/'+batch+'/geometric_median_guide_level/'\n",
    "    fig.savefig(resultsDir+input_gene+'.png')  \n",
    "    plt.ioff()\n",
    "    del fig"
   ]
  },
  {
   "cell_type": "code",
   "execution_count": null,
   "metadata": {},
   "outputs": [],
   "source": [
    "igi"
   ]
  },
  {
   "cell_type": "code",
   "execution_count": null,
   "metadata": {},
   "outputs": [],
   "source": [
    "igi, 5323 error"
   ]
  },
  {
   "cell_type": "code",
   "execution_count": null,
   "metadata": {},
   "outputs": [],
   "source": [
    "# genes_ls.index('LOC653602')\n",
    "# pd.concat([all_guides_gms_df]*2, ignore_index=True)\n",
    "len(genes_ls)"
   ]
  },
  {
   "cell_type": "code",
   "execution_count": null,
   "metadata": {},
   "outputs": [],
   "source": [
    "ls /home/ubuntu/calbucket/projects/2018_11_20_Periscope_Calico/workspace/"
   ]
  },
  {
   "cell_type": "code",
   "execution_count": null,
   "metadata": {},
   "outputs": [],
   "source": [
    "igi,input_gene,all_guides_gms_df.shape,gene_guids_ls"
   ]
  },
  {
   "cell_type": "code",
   "execution_count": null,
   "metadata": {},
   "outputs": [],
   "source": [
    "os.system('mkdir -p /home/ubuntu/bucket/projects/2018_11_20_Periscope_Calico/workspace/visualizations/'+batch+'/geometric_median_guide_level')"
   ]
  },
  {
   "cell_type": "code",
   "execution_count": null,
   "metadata": {},
   "outputs": [],
   "source": [
    "ls /home/ubuntu/bucket/projects/2018_11_20_Periscope_Calico/workspace/visualizations"
   ]
  },
  {
   "cell_type": "code",
   "execution_count": null,
   "metadata": {},
   "outputs": [],
   "source": [
    "# metadata_orig.gene_symbol.unique().tolist()"
   ]
  },
  {
   "cell_type": "code",
   "execution_count": null,
   "metadata": {
    "scrolled": false
   },
   "outputs": [],
   "source": [
    "import glob\n",
    "rootDir='/home/ubuntu/calbucket/projects/2018_11_20_Periscope_Calico/'\n",
    "\n",
    "# batch='20200805_A549_WG_Screen';\n",
    "batch='20210422_6W_CP257';\n",
    "\n",
    "\n",
    "batch_multi_name_dict={'20210422_6W_CP257':'CP257-HeLa-WG',\\\n",
    "                   '20200805_A549_WG_Screen':'CP186-A549-WG'}\n",
    "batchName2=batch_multi_name_dict[batch]\n",
    "sc_files_dir=rootDir+'workspace/software/'+batchName2+'/data/1.profiles/'+batch+'/single_cell/single_cell_by_guide/'\n",
    "im_size=5500 # hardcoded for now, TODO: create a dictionary if this number is different for 257 vs 186\n",
    "\n",
    "### metadata \n",
    "metadata_dir=rootDir+'workspace/metadata/'+batch+'/'\n",
    "metadata_orig= pd.read_csv(metadata_dir+'Barcodes.csv')\n",
    "\n",
    "# input_gene='KRT28'\n",
    "n_cells=10\n",
    "box_size=100\n",
    "\n",
    "# how we select cells which can be 'random','representative','geometric_median'\n",
    "cell_selection_method='representative'\n",
    "channels=['DNA','Mito','Phalloidin','WGA','ER','Outline']\n",
    "\n",
    "resultsDir='/home/ubuntu/bucket/projects/2018_11_20_Periscope_Calico/workspace/visualizations/'+batch+'/'+cell_selection_method+'_guide_level/'\n",
    "\n",
    "\n",
    "# genes_ls=metadata_orig.gene_symbol.unique().tolist()\n",
    "\n",
    "genes_ls=['ATP6V1A', 'ATP6V1B1', 'ATP6V1B2', 'ATP6V1C1', 'ATP6V1C2', 'ATP6V1D', 'ATP6V1E1', 'ATP6V1E2',\\\n",
    "'ATP6V1G1', 'ATP6V1G2', 'ATP6V1G3', 'ATP6V1F', 'ATP6V1H','ALDOB', 'CCDC115', 'VMA21', 'TMEM199',\\\n",
    "'TM9SF4','ALG10','DPM1','DPM2','DPM3','ALG3','ALG9','ALG12','ALG6','ALG8','ALG10B','DDOST',\\\n",
    "'RPN1','RPN2','STT3A','DAD1','TUSC3', 'MOGS','GANAB','MAN1A1','MAN1A2','MAN1B1','MAN1C1','STT3B',\\\n",
    "'MAN2C1','ENGASE','FDPS','GGPS1','NEU2','NEU4','ALG5','DHDDS','DOLPP1','DOLK','DPAGT1',\\\n",
    "'ALG1','ALG2','ALG11','ALG13','ALG14','ACTR2','ACTR3','ARPC2','ARPC3','ATP6AP1',\\\n",
    "'ATP6V0D1','ATP6V1DALG1L','TMEM251',\"TOMM20\",\"nontargeting\"]\n",
    "\n",
    "\n",
    "genes_ls=['ARPC3','ATP6AP1',\\\n",
    "'ATP6V0D1','ATP6V1DALG1L','TMEM251']\n",
    "\n",
    "# genes_ls=['ALG12','TUSC3','FDPS','ALG5','DPAGT1','ALG1']\n",
    "\n",
    "# # genes_ls=['TMEM251']\n",
    "\n",
    "# Meraj_only_g_ls=['ACTR2','ACTR3','ARPC2','ARPC3','ARPC4','ATP6AP1','ATP6V0D1','ATP6V1DALG1L']\n",
    "\n",
    "# genes_ls=['ACTR2','ACTR3','ARPC2','ARPC3','ARPC4','ATP6AP1','ATP6V0D1','ATP6V1DALG1L']\n",
    "# genes_ls=['TOMM20']\n",
    "# genes_ls=[\"nontargeting\"]\n",
    "\n",
    "for igi in range(len(genes_ls)):\n",
    "    input_gene=genes_ls[igi]\n",
    "#     all_guides_gms_ls=[]\n",
    "    gene_guids_ls=glob.glob(sc_files_dir+'*_'+input_gene+'.csv.gz')\n",
    "    for gi in gene_guids_ls[78:]:\n",
    "        df_p_s=pd.read_csv(gi);\n",
    "        \n",
    "        for ch in channels:\n",
    "            df_p_s[\"PathName_Corr\"+ch]=rootDir+batch+'/images_corrected_cropped/'+df_p_s[\"Metadata_Foci_plate\"]+'_'+df_p_s[\"Metadata_Foci_well\"]+'/Corr'+ch\n",
    "            df_p_s[\"FileName_Corr\"+ch]=\"Corr\"+ch+\"_\"+\"Site_\"+df_p_s[\"Metadata_Foci_site_location\"].astype(str)+\".tiff\"\n",
    "\n",
    "        df_p_s[\"Path_Outlines\"]=rootDir+'workspace/analysis/'+batch+'/'+df_p_s[\"Metadata_Foci_plate\"]+'-'+df_p_s[\"Metadata_Foci_well\"]+'-'+df_p_s[\"Metadata_Foci_site_location\"].astype(str)+'/'\\\n",
    "        +'/CorrDNA_Site_'+df_p_s[\"Metadata_Foci_site_location\"].astype(str)+'_Overlay.png'\n",
    "\n",
    "        df_p_s[\"Nuclei_Location_Center_X\"]=df_p_s[\"Cells_AreaShape_Center_X\"];\n",
    "        df_p_s[\"Nuclei_Location_Center_Y\"]=df_p_s[\"Cells_AreaShape_Center_Y\"];\n",
    "        \n",
    "        df_p_s=edgeCellFilter2(df_p_s,im_size,box_size/2);\n",
    "        \n",
    "        #.sample(n = np.min([1500,df_p_s.shape[0]]),\\\n",
    "        if df_p_s.shape[0]>0:\n",
    "            \n",
    "            df_samples,cp_features_analysis = extract_single_cell_samples(df_p_s,n_cells,cell_selection_method);\n",
    "            \n",
    "            resdir=resultsDir+input_gene#+'/'+gi.split('_')[-2]\n",
    "            os.system(\"mkdir -p \"+resdir)\n",
    "\n",
    "    #             all_guides_gms_ls.append(df_samples)\n",
    "\n",
    "    #         all_guides_gms_df=pd.concat(all_guides_gms_ls,ignore_index=True).drop_duplicates(ignore_index=True)\n",
    "\n",
    "    #         if all_guides_gms_df.shape[0]==1:\n",
    "    #             all_guides_gms_df=pd.concat([all_guides_gms_df]*2, ignore_index=True)    \n",
    "\n",
    "            df_samples['label']=df_p_s[\"Metadata_Foci_well\"]+'-'+df_p_s[\"Metadata_Foci_site_location\"].astype(str)\n",
    "            fig=visualize_n_SingleCell_pooled(channels,df_samples,box_size,im_size,title=input_gene+'_'+cell_selection_method);\n",
    "            gc.collect()\n",
    "            \n",
    "        #     resultsDir='/home/ubuntu/bucket/projects/2018_11_20_Periscope_Calico/workspace/visualizations/'+batch+'/geometric_median_guide_level/'\n",
    "            fig.savefig(resdir+'/'+gi.split('_')[-2]+'.png',dpi=500)  \n",
    "            plt.ioff()"
   ]
  },
  {
   "cell_type": "code",
   "execution_count": null,
   "metadata": {},
   "outputs": [],
   "source": [
    "# ARPC2\n",
    "# OverflowError: cannot convert float infinity to integer\n",
    "# df_samples,cp_features_analysis = extract_single_cell_samples(df_p_s,n_cells,cell_selection_method);\n",
    "# len(gene_guids_ls),igi\n",
    "gene_guids_ls.index(gi)"
   ]
  },
  {
   "cell_type": "code",
   "execution_count": null,
   "metadata": {},
   "outputs": [],
   "source": [
    "df_p_s.shape"
   ]
  },
  {
   "cell_type": "code",
   "execution_count": null,
   "metadata": {},
   "outputs": [],
   "source": [
    "# df_p_s=df_p_s.interpolate()\n",
    "df_samples,cp_features_analysis = extract_single_cell_samples(df_p_s,n_cells,cell_selection_method);"
   ]
  },
  {
   "cell_type": "code",
   "execution_count": null,
   "metadata": {},
   "outputs": [],
   "source": [
    "ValueError: Input contains NaN, infinity or a value too large for dtype('float64').\n",
    "'ALG12','TUSC3','FDPS','ALG5','DPAGT1','ALG1'"
   ]
  },
  {
   "cell_type": "code",
   "execution_count": null,
   "metadata": {},
   "outputs": [],
   "source": [
    "OverflowError: cannot convert float infinity to integer\n",
    "'ARPC3'"
   ]
  },
  {
   "cell_type": "code",
   "execution_count": null,
   "metadata": {},
   "outputs": [],
   "source": [
    "igi,input_gene"
   ]
  },
  {
   "cell_type": "code",
   "execution_count": null,
   "metadata": {},
   "outputs": [],
   "source": [
    "# fig=visualize_n_SingleCell_pooled(channels,df_samples,box_size,im_size,title=input_gene+'_'+cell_selection_method);\n",
    "\n",
    "imm=skimage.io.imread(\"/home/ubuntu/calbucket/projects/2018_11_20_Periscope_Calico/20210422_6W_CP257/images_corrected_cropped/CP257L_Well3/CorrDNA/CorrDNA_Site_38.tiff\")\n",
    "\n",
    "print(imm.min(),imm.max())"
   ]
  },
  {
   "cell_type": "code",
   "execution_count": null,
   "metadata": {},
   "outputs": [],
   "source": [
    "# plt.figure()\n",
    "# plt.hist(imm,bins=1000)\n",
    "\n",
    "image = np.array([25,28, 51, 102, 153,190, 200], dtype=np.uint8)\n",
    "exposure.rescale_intensity(image,in_range=(28,190))\n",
    "# array([  0, 127, 255], dtype=uint8)"
   ]
  },
  {
   "cell_type": "code",
   "execution_count": null,
   "metadata": {},
   "outputs": [],
   "source": [
    "# igi,input_gene\n",
    "# df_p_s.shape\n",
    "# df_p_s\n",
    "\n",
    "from skimage import exposure\n",
    "high_contrast = exposure.rescale_intensity(imm, in_range=(imm.min(), imm.max()))"
   ]
  },
  {
   "cell_type": "code",
   "execution_count": null,
   "metadata": {},
   "outputs": [],
   "source": [
    "plt.figure()\n",
    "plt.hist(imm,bins=1000)"
   ]
  },
  {
   "cell_type": "code",
   "execution_count": null,
   "metadata": {},
   "outputs": [],
   "source": [
    "high_contrast.min(),high_contrast.max()"
   ]
  },
  {
   "cell_type": "code",
   "execution_count": null,
   "metadata": {},
   "outputs": [],
   "source": [
    "# skdemo.imshow_with_histogram\n",
    "# import skdemo\n",
    "\n",
    "# skdemo.imshow_with_histogram(image);"
   ]
  },
  {
   "cell_type": "code",
   "execution_count": null,
   "metadata": {},
   "outputs": [],
   "source": [
    "igi,input_gene"
   ]
  },
  {
   "cell_type": "code",
   "execution_count": null,
   "metadata": {},
   "outputs": [],
   "source": [
    "df_p_s[cp_features_analysis].values"
   ]
  },
  {
   "cell_type": "code",
   "execution_count": null,
   "metadata": {},
   "outputs": [],
   "source": [
    "igi"
   ]
  },
  {
   "cell_type": "code",
   "execution_count": null,
   "metadata": {},
   "outputs": [],
   "source": [
    "genes_ls=['ATP6V1A', 'ATP6V1B1', 'ATP6V1B2', 'ATP6V1C1', 'ATP6V1C2', 'ATP6V1D', 'ATP6V1E1', 'ATP6V1E2',\\\n",
    "'ATP6V1G1', 'ATP6V1G2', 'ATP6V1G3', 'ATP6V1F', 'ATP6V1H','ALDOB', 'CCDC115', 'VMA21', 'TMEM199',\\\n",
    "'TM9SF4','ALG10','DPM1','DPM2','DPM3','ALG3','ALG9','ALG12','ALG6','ALG8','ALG10B','DDOST',\\\n",
    "'RPN1','RPN2','STT3A','DAD1','TUSC3', 'MOGS','GANAB','MAN1A1','MAN1A2','MAN1B1','MAN1C1','STT3B',\\\n",
    "'MAN2C1','ENGASE','FDPS','GGPS1','NEU2','NEU4','ALG5','DHDDS','DOLPP1','DOLK','DPAGT1',\\\n",
    "          'ALG1','ALG2','ALG11','ALG13','ALG14']"
   ]
  },
  {
   "cell_type": "code",
   "execution_count": null,
   "metadata": {},
   "outputs": [],
   "source": []
  },
  {
   "cell_type": "code",
   "execution_count": null,
   "metadata": {},
   "outputs": [],
   "source": [
    "Meraj_g_ls=[\"ATP6V0D1\",\"ATP6V1F\",\"ATP6AP1\",\"ATP6V1C1\",\"ATP6V1H\",\"ATP6V1G1\",\"ATP6V1D\"\n",
    "\"ALG1L\",\"ALG3\",\"ALG9\",\"ALG12\",\"DPM1\",\"DPM2\",\"ARPC2\",\"ARPC3\",\"ARPC4\",\"ACTR2\",\"ACTR3\"]"
   ]
  },
  {
   "cell_type": "code",
   "execution_count": null,
   "metadata": {},
   "outputs": [],
   "source": [
    "set(genes_ls) & set(Meraj_g_ls)"
   ]
  },
  {
   "cell_type": "markdown",
   "metadata": {},
   "source": [
    "## Visualize channel specific representative cells\n",
    "\n",
    "- Clustering based on channel specific features for selecting single cells"
   ]
  },
  {
   "cell_type": "code",
   "execution_count": null,
   "metadata": {},
   "outputs": [],
   "source": [
    "import glob\n",
    "rootDir='/home/ubuntu/calbucket/projects/2018_11_20_Periscope_Calico/'\n",
    "\n",
    "# batch='20200805_A549_WG_Screen';\n",
    "batch='20210422_6W_CP257';\n",
    "\n",
    "\n",
    "batch_multi_name_dict={'20210422_6W_CP257':'CP257-HeLa-WG',\\\n",
    "                   '20200805_A549_WG_Screen':'CP186-A549-WG'}\n",
    "batchName2=batch_multi_name_dict[batch]\n",
    "sc_files_dir=rootDir+'workspace/software/'+batchName2+'/data/1.profiles/'+batch+'/single_cell/single_cell_by_guide/'\n",
    "im_size=5500 # hardcoded for now, TODO: create a dictionary if this number is different for 257 vs 186\n",
    "\n",
    "### metadata \n",
    "metadata_dir=rootDir+'workspace/metadata/'+batch+'/'\n",
    "metadata_orig= pd.read_csv(metadata_dir+'Barcodes.csv')\n",
    "\n",
    "# input_gene='KRT28'\n",
    "n_cells=20\n",
    "box_size=100\n",
    "\n",
    "# how we select cells which can be 'random','representative','geometric_median'\n",
    "cell_selection_method='representative'\n",
    "channels=['DNA','Mito','Phalloidin','WGA','ER']\n",
    "\n",
    "resultsDir='/home/ubuntu/bucket/projects/2018_11_20_Periscope_Calico/workspace/visualizations/'+batch+'/'+\\\n",
    "cell_selection_method+'_guide_level_channel_level/'\n",
    "\n",
    "genes_ls=['ATP6V1A', 'ATP6V1B1', 'ATP6V1B2', 'ATP6V1C1', 'ATP6V1C2', 'ATP6V1D', 'ATP6V1E1', 'ATP6V1E2',\\\n",
    "'ATP6V1G1', 'ATP6V1G2', 'ATP6V1G3', 'ATP6V1F', 'ATP6V1H','ALDOB', 'CCDC115', 'VMA21', 'TMEM199',\\\n",
    "'TM9SF4','ALG10','DPM1','DPM2','DPM3','ALG3','ALG9','ALG12','ALG6','ALG8','ALG10B','DDOST',\\\n",
    "'RPN1','RPN2','STT3A','DAD1','TUSC3', 'MOGS','GANAB','MAN1A1','MAN1A2','MAN1B1','MAN1C1','STT3B',\\\n",
    "'MAN2C1','ENGASE','FDPS','GGPS1','NEU2','NEU4','ALG5','DHDDS','DOLPP1','DOLK','DPAGT1',\\\n",
    "'ALG1','ALG2','ALG11','ALG13','ALG14','ACTR2','ACTR3','ARPC2','ARPC3','ATP6AP1',\\\n",
    "'ATP6V0D1','ATP6V1DALG1L','TMEM251',\"TOMM20\",\"nontargeting\"]\n",
    "\n",
    "# genes_ls=metadata_orig.gene_symbol.unique().tolist()\n",
    "\n",
    "genes_ls=[\"nontargeting\"]\n",
    "\n",
    "# Meraj_only_g_ls=['ACTR2','ACTR3','ARPC2','ARPC3','ARPC4','ATP6AP1','ATP6V0D1','ATP6V1DALG1L']\n",
    "\n",
    "# genes_ls=['ACTR2','ACTR3','ARPC2','ARPC3','ARPC4','ATP6AP1','ATP6V0D1','ATP6V1DALG1L']\n",
    "# genes_ls=['TOMM20']\n",
    "# genes_ls=[\"nontargeting\"]\n",
    "\n",
    "for igi in range(len(genes_ls)):\n",
    "    input_gene=genes_ls[igi]\n",
    "    all_guides_gms_ls=[]\n",
    "    gene_guids_ls=glob.glob(sc_files_dir+'*_'+input_gene+'.csv.gz')\n",
    "    for gi in gene_guids_ls[77:]:\n",
    "        df_p_s=pd.read_csv(gi);\n",
    "        \n",
    "        for ch in channels:\n",
    "            df_p_s[\"PathName_Corr\"+ch]=rootDir+batch+'/images_corrected_cropped/'+df_p_s[\"Metadata_Foci_plate\"]+'_'+df_p_s[\"Metadata_Foci_well\"]+'/Corr'+ch\n",
    "            df_p_s[\"FileName_Corr\"+ch]=\"Corr\"+ch+\"_\"+\"Site_\"+df_p_s[\"Metadata_Foci_site_location\"].astype(str)+\".tiff\"\n",
    "\n",
    "        df_p_s[\"Path_Outlines\"]=rootDir+'workspace/analysis/'+batch+'/'+df_p_s[\"Metadata_Foci_plate\"]+'-'+df_p_s[\"Metadata_Foci_well\"]+'-'+df_p_s[\"Metadata_Foci_site_location\"].astype(str)+'/'\\\n",
    "        +'/CorrDNA_Site_'+df_p_s[\"Metadata_Foci_site_location\"].astype(str)+'_Overlay.png'\n",
    "\n",
    "        df_p_s[\"Nuclei_Location_Center_X\"]=df_p_s[\"Cells_AreaShape_Center_X\"];\n",
    "        df_p_s[\"Nuclei_Location_Center_Y\"]=df_p_s[\"Cells_AreaShape_Center_Y\"];\n",
    "        \n",
    "        df_p_s=edgeCellFilter2(df_p_s,im_size,box_size/2);\n",
    "        \n",
    "        #.sample(n = np.min([1500,df_p_s.shape[0]]),\\\n",
    "#         channel_name_in_feats=['DAPI_Painting','ConA','Mito','Phalloidin','WGA']\n",
    "        align_column_ch_name_map={'DNA':'DAPI_Painting','ER':'ConA','Mito':'Mito','Phalloidin':'Phalloidin','WGA':'WGA'}\n",
    "        \n",
    "        if df_p_s.shape[0]>0:\n",
    "            for ch in channels:\n",
    "                channel_feats=df_p_s.columns[df_p_s.columns.str.contains('_'+align_column_ch_name_map[ch]+'|_X|_Y|FileName_|Path|Metadata_')]\n",
    "                df_samples,cp_features_analysis = extract_single_cell_samples(df_p_s[channel_feats],n_cells,cell_selection_method);\n",
    "\n",
    "                resdir=resultsDir+input_gene+'/'+gi.split('_')[-2]\n",
    "                os.system(\"mkdir -p \"+resdir)\n",
    "\n",
    "        #             all_guides_gms_ls.append(df_samples)\n",
    "\n",
    "        #         all_guides_gms_df=pd.concat(all_guides_gms_ls,ignore_index=True).drop_duplicates(ignore_index=True)\n",
    "\n",
    "        #         if all_guides_gms_df.shape[0]==1:\n",
    "        #             all_guides_gms_df=pd.concat([all_guides_gms_df]*2, ignore_index=True)    \n",
    "\n",
    "                df_samples['label']=df_p_s[\"Metadata_Foci_well\"]+'-'+df_p_s[\"Metadata_Foci_site_location\"].astype(str)\n",
    "#                 fig=visualize_n_SingleCell_pooled(channels,df_samples,box_size,im_size,title=input_gene+'_'+cell_selection_method);\n",
    "                channels2=[ch,'Outline']\n",
    "                fig=visualize_n_SingleCell_pooled(channels2,df_samples,box_size,im_size,title=input_gene+'_'+cell_selection_method);\n",
    "                gc.collect()\n",
    "            #     resultsDir='/home/ubuntu/bucket/projects/2018_11_20_Periscope_Calico/workspace/visualizations/'+batch+'/geometric_median_guide_level/'\n",
    "                fig.savefig(resdir+'/'+ch+'.png',dpi=500)  \n",
    "                plt.ioff()"
   ]
  },
  {
   "cell_type": "code",
   "execution_count": null,
   "metadata": {},
   "outputs": [],
   "source": [
    "# df_samples.shape\n",
    "# np.power(2,16)\n",
    "# channels\n",
    "gene_guids_ls.index(gi)"
   ]
  },
  {
   "cell_type": "code",
   "execution_count": null,
   "metadata": {},
   "outputs": [],
   "source": [
    "df_samples.columns[df_samples.columns.str.contains('FileName')]"
   ]
  },
  {
   "cell_type": "code",
   "execution_count": null,
   "metadata": {},
   "outputs": [],
   "source": [
    "df_p_s.columns.str.contains('_ConA')"
   ]
  },
  {
   "cell_type": "code",
   "execution_count": null,
   "metadata": {},
   "outputs": [],
   "source": [
    "# ls /home/ubuntu/bucket/projects/2018_11_20_Periscope_Calico/workspace/visualizations/20210422_6W_CP257/representative_guide_level_channel_level/"
   ]
  },
  {
   "cell_type": "code",
   "execution_count": null,
   "metadata": {},
   "outputs": [],
   "source": [
    "2500*454"
   ]
  },
  {
   "cell_type": "markdown",
   "metadata": {},
   "source": [
    "### For each guide save one cell from each plate well site \n",
    "- There are 454 non-targeting guids and 9 plates and 6 wells and ~100 sites\n",
    "- For each guide select 1 randomly selected cell from each plate well site -> \"Metadata_site\"  metadata column \n",
    "  - Which is about 2500 cells per guide -> this got to memory error\n",
    "  \n",
    "- Instead i sample 10 cells from each plat well -> results are saved in \n",
    "https://imaging-platform.s3.us-east-1.amazonaws.com/projects/2018_11_20_Periscope_Calico/workspace/visualizations/20210422_6W_CP257/nontargeting_dfs\n",
    "\n",
    "- Total shape would be about"
   ]
  },
  {
   "cell_type": "code",
   "execution_count": null,
   "metadata": {},
   "outputs": [],
   "source": [
    "import glob\n",
    "batch='20210422_6W_CP257';\n",
    "rootDir='/home/ubuntu/calbucket/projects/2018_11_20_Periscope_Calico/'\n",
    "batch_multi_name_dict={'20210422_6W_CP257':'CP257-HeLa-WG',\\\n",
    "                   '20200805_A549_WG_Screen':'CP186-A549-WG'}\n",
    "batchName2=batch_multi_name_dict[batch]\n",
    "sc_files_dir=rootDir+'workspace/software/'+batchName2+'/data/1.profiles/'+batch+'/single_cell/single_cell_by_guide/'\n",
    "im_size=5500 \n",
    "\n",
    "# resultsDir='/home/ubuntu/bucket/projects/2018_11_20_Periscope_Calico/workspace/visualizations/'+batch+'/'+\\\n",
    "# cell_selection_method+'_guide_level_channel_level/'\n",
    "\n",
    "\n",
    "input_gene=\"nontargeting\"\n",
    "all_guides_gms_ls=[]\n",
    "gene_guids_ls=glob.glob(sc_files_dir+'*_'+input_gene+'.csv.gz')\n",
    "nontarget_df_ls=[]\n",
    "ix=0\n",
    "for gi in gene_guids_ls:\n",
    "    df_p_s=pd.read_csv(gi);\n",
    "    ix+=1\n",
    "    print(ix)\n",
    "#     afdsdf\n",
    "#     nontarget_df_ls.append(df_p_s.groupby('Metadata_site').sample(n = 1, replace = False).reset_index(drop=True)) # this gives memory error\n",
    "    nontarget_df_ls.append(df_p_s.groupby(['Metadata_Foci_plate','Metadata_Foci_well']).sample(n = 10, replace = True).reset_index(drop=True)) # this gives memory error    \n",
    "#     for ch in channels:\n",
    "#         df_p_s[\"PathName_Corr\"+ch]=rootDir+batch+'/images_corrected_cropped/'+df_p_s[\"Metadata_Foci_plate\"]+'_'+df_p_s[\"Metadata_Foci_well\"]+'/Corr'+ch\n",
    "#         df_p_s[\"FileName_Corr\"+ch]=\"Corr\"+ch+\"_\"+\"Site_\"+df_p_s[\"Metadata_Foci_site_location\"].astype(str)+\".tiff\"\n",
    "\n",
    "#     df_p_s[\"Path_Outlines\"]=rootDir+'workspace/analysis/'+batch+'/'+df_p_s[\"Metadata_Foci_plate\"]+'-'+df_p_s[\"Metadata_Foci_well\"]+'-'+df_p_s[\"Metadata_Foci_site_location\"].astype(str)+'/'\\\n",
    "#     +'/CorrDNA_Site_'+df_p_s[\"Metadata_Foci_site_location\"].astype(str)+'_Overlay.png'\n",
    "\n",
    "#     df_p_s[\"Nuclei_Location_Center_X\"]=df_p_s[\"Cells_AreaShape_Center_X\"];\n",
    "#     df_p_s[\"Nuclei_Location_Center_Y\"]=df_p_s[\"Cells_AreaShape_Center_Y\"];\n",
    "\n",
    "#     df_p_s=edgeCellFilter2(df_p_s,im_size,box_size/2);\n",
    "\n",
    "#     #.sample(n = np.min([1500,df_p_s.shape[0]]),\\\n",
    "#     if df_p_s.shape[0]>0:\n",
    "\n",
    "#         df_samples,cp_features_analysis = extract_single_cell_samples(df_p_s,n_cells,cell_selection_method);\n",
    "            \n",
    "#         nontarget_df_ls.append(df_samples)"
   ]
  },
  {
   "cell_type": "code",
   "execution_count": null,
   "metadata": {},
   "outputs": [],
   "source": [
    "for gi in gene_guids_ls[251:]:\n",
    "    df_p_s=pd.read_csv(gi);\n",
    "    ix+=1\n",
    "    print(ix)\n",
    "#     afdsdf\n",
    "#     nontarget_df_ls.append(df_p_s.groupby('Metadata_site').sample(n = 1, replace = False).reset_index(drop=True)) # this gives memory error\n",
    "    nontarget_df_ls.append(df_p_s.groupby(['Metadata_Foci_plate','Metadata_Foci_well']).sample(n = 10, replace = True).reset_index(drop=True)) # this gives memory error    \n"
   ]
  },
  {
   "cell_type": "code",
   "execution_count": null,
   "metadata": {},
   "outputs": [],
   "source": [
    "df_p_s=pd.read_csv(gene_guids_ls[2]);\n",
    "df_p_s.groupby('Metadata_site').sample(n = 1, replace = False).reset_index(drop=True).shape  \n"
   ]
  },
  {
   "cell_type": "code",
   "execution_count": null,
   "metadata": {},
   "outputs": [],
   "source": [
    "# 540*545\n",
    "https://imaging-platform.s3.us-east-1.amazonaws.com/projects/2018_11_20_Periscope_Calico/workspace/visualizations/20210422_6W_CP257/nontargeting_dfs"
   ]
  },
  {
   "cell_type": "code",
   "execution_count": null,
   "metadata": {},
   "outputs": [],
   "source": [
    "rootDir+'/workspace/visualizations/'+batch+'/nontargeting_dfs/'\n",
    "git rm --cached <filename>"
   ]
  },
  {
   "cell_type": "code",
   "execution_count": null,
   "metadata": {},
   "outputs": [],
   "source": [
    "pd.concat(nontarget_df_ls,axis=0,ignore_index=True).to_csv('/home/ubuntu/bucket/projects/2018_11_20_Periscope_Calico//workspace/visualizations/'+batch+'/nontargeting_dfs/guide_ten_per_plate_well.csv',index=False)\n"
   ]
  },
  {
   "cell_type": "code",
   "execution_count": null,
   "metadata": {},
   "outputs": [],
   "source": [
    "# df_p_s.groupby('Metadata_site').sample(n = 1, replace = False).reset_index(drop=True).shape\n",
    "l"
   ]
  },
  {
   "cell_type": "code",
   "execution_count": null,
   "metadata": {},
   "outputs": [],
   "source": [
    "ls /home/ubuntu/bucket/projects/2018_11_20_Periscope_Calico/workspace/visualizations/"
   ]
  },
  {
   "cell_type": "code",
   "execution_count": null,
   "metadata": {},
   "outputs": [],
   "source": [
    "df_p_s.groupby(['Metadata_Foci_plate','Metadata_Foci_well']).sample(n = 10, replace = False).reset_index(drop=True)"
   ]
  },
  {
   "cell_type": "code",
   "execution_count": null,
   "metadata": {},
   "outputs": [],
   "source": [
    "df_p_s.groupby(['Metadata_Foci_plate','Metadata_Foci_well']).size()"
   ]
  },
  {
   "cell_type": "code",
   "execution_count": null,
   "metadata": {},
   "outputs": [],
   "source": [
    "# df_p_s.groupby(['Metadata_Foci_plate','Metadata_Foci_site']).size()\n",
    "df_p_s.groupby(['Metadata_Foci_plate','Metadata_Foci_well','Metadata_site']).size()#.groupby(['Metadata_Foci_plate'])"
   ]
  },
  {
   "cell_type": "code",
   "execution_count": null,
   "metadata": {},
   "outputs": [],
   "source": [
    "df_p_s.columns[df_p_s.columns.str.contains('site')]"
   ]
  },
  {
   "cell_type": "code",
   "execution_count": null,
   "metadata": {},
   "outputs": [],
   "source": []
  },
  {
   "cell_type": "code",
   "execution_count": null,
   "metadata": {},
   "outputs": [],
   "source": [
    "files = glob.glob(path + \"/**/*.txt\", recursive = True)"
   ]
  }
 ],
 "metadata": {
  "kernelspec": {
   "display_name": "rare",
   "language": "python",
   "name": "rare"
  },
  "language_info": {
   "codemirror_mode": {
    "name": "ipython",
    "version": 3
   },
   "file_extension": ".py",
   "mimetype": "text/x-python",
   "name": "python",
   "nbconvert_exporter": "python",
   "pygments_lexer": "ipython3",
   "version": "3.8.12"
  },
  "latex_envs": {
   "LaTeX_envs_menu_present": true,
   "autoclose": false,
   "autocomplete": true,
   "bibliofile": "biblio.bib",
   "cite_by": "apalike",
   "current_citInitial": 1,
   "eqLabelWithNumbers": true,
   "eqNumInitial": 1,
   "hotkeys": {
    "equation": "Ctrl-E",
    "itemize": "Ctrl-I"
   },
   "labels_anchors": false,
   "latex_user_defs": false,
   "report_style_numbering": false,
   "user_envs_cfg": false
  },
  "varInspector": {
   "cols": {
    "lenName": 16,
    "lenType": 16,
    "lenVar": 40
   },
   "kernels_config": {
    "python": {
     "delete_cmd_postfix": "",
     "delete_cmd_prefix": "del ",
     "library": "var_list.py",
     "varRefreshCmd": "print(var_dic_list())"
    },
    "r": {
     "delete_cmd_postfix": ") ",
     "delete_cmd_prefix": "rm(",
     "library": "var_list.r",
     "varRefreshCmd": "cat(var_dic_list()) "
    }
   },
   "types_to_exclude": [
    "module",
    "function",
    "builtin_function_or_method",
    "instance",
    "_Feature"
   ],
   "window_display": false
  }
 },
 "nbformat": 4,
 "nbformat_minor": 4
}

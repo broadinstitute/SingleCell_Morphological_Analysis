{
 "cells": [
  {
   "cell_type": "code",
   "execution_count": 2,
   "metadata": {},
   "outputs": [
    {
     "name": "stdout",
     "output_type": "stream",
     "text": [
      "The autoreload extension is already loaded. To reload it, use:\n",
      "  %reload_ext autoreload\n"
     ]
    }
   ],
   "source": [
    "%load_ext autoreload\n",
    "%autoreload 2\n",
    "import numpy as np\n",
    "import pandas as pd \n",
    "import time\n",
    "import sys, os\n",
    "# from utils import read_data, visualize_data\n",
    "from utils.read_data import *\n",
    "import pandas as pd\n",
    "from sqlalchemy import create_engine\n",
    "from functools import reduce\n",
    "import time"
   ]
  },
  {
   "cell_type": "code",
   "execution_count": 4,
   "metadata": {},
   "outputs": [],
   "source": [
    "############################################# Drug Rep data sets rootDir\n",
    "rootDirDrug='/home/ubuntu/bucket/projects/2015_10_05_DrugRepurposing_AravindSubramanian_GolubLab_Broad/'\n",
    "ImFilesRoot=rootDirDrug+'2016_04_01_a549_48hr_batch1_compressed/images'\n",
    "\n",
    "############################################# Mito Project rootDir\n",
    "rootDirMito='/home/ubuntu/bucket/projects/2016_08_01_RadialMitochondriaDistribution_donna/workspace/'"
   ]
  },
  {
   "cell_type": "code",
   "execution_count": 67,
   "metadata": {},
   "outputs": [],
   "source": [
    "drug_list_rank=pd.read_excel(\"/home/ubuntu/bucket/projects/2016_08_01_RadialMitochondriaDistribution_donna/\\\n",
    "workspace/Metadata_drugRep/drugList_20210115_uncorrForSiteAgg.xlsx\",index_col=0).reset_index(drop=True)\n",
    "meta_lincs=pd.read_csv(\"/home/ubuntu/bucket/projects/2018_04_20_Rosetta/\\\n",
    "workspace/results/synth_meta/meta_lincs_repLevel.csv\")\n",
    "meta_lincs.Metadata_mmoles_per_liter=meta_lincs.Metadata_mmoles_per_liter.values.round(2)\n",
    "meta_lincs2=meta_lincs.groupby(['Metadata_broad_sample','Metadata_mmoles_per_liter','Metadata_Plate','Metadata_Well']).size().reset_index()\n",
    "\n"
   ]
  },
  {
   "cell_type": "code",
   "execution_count": 68,
   "metadata": {},
   "outputs": [
    {
     "data": {
      "text/html": [
       "<div>\n",
       "<style scoped>\n",
       "    .dataframe tbody tr th:only-of-type {\n",
       "        vertical-align: middle;\n",
       "    }\n",
       "\n",
       "    .dataframe tbody tr th {\n",
       "        vertical-align: top;\n",
       "    }\n",
       "\n",
       "    .dataframe thead th {\n",
       "        text-align: right;\n",
       "    }\n",
       "</style>\n",
       "<table border=\"1\" class=\"dataframe\">\n",
       "  <thead>\n",
       "    <tr style=\"text-align: right;\">\n",
       "      <th></th>\n",
       "      <th>Metadata_broad_sample</th>\n",
       "      <th>Metadata_mmoles_per_liter</th>\n",
       "      <th>0</th>\n",
       "      <th>Metadata_moa</th>\n",
       "      <th>Metadata_pert_name</th>\n",
       "      <th>Count_Cells</th>\n",
       "      <th>phenotype_abundance_pval</th>\n",
       "      <th>phenotype_abundance_t</th>\n",
       "    </tr>\n",
       "  </thead>\n",
       "  <tbody>\n",
       "    <tr>\n",
       "      <th>0</th>\n",
       "      <td>BRD-K24576554-001-04-8</td>\n",
       "      <td>0.37</td>\n",
       "      <td>5</td>\n",
       "      <td>Aurora kinase inhibitor|JAK inhibitor</td>\n",
       "      <td>AT-9283</td>\n",
       "      <td>499</td>\n",
       "      <td>5.144916e-07</td>\n",
       "      <td>57.690956</td>\n",
       "    </tr>\n",
       "    <tr>\n",
       "      <th>1</th>\n",
       "      <td>BRD-A61221616-001-04-3</td>\n",
       "      <td>0.04</td>\n",
       "      <td>5</td>\n",
       "      <td>progesterone receptor agonist</td>\n",
       "      <td>medroxyprogesterone-acetate</td>\n",
       "      <td>2006</td>\n",
       "      <td>3.914460e-06</td>\n",
       "      <td>30.592161</td>\n",
       "    </tr>\n",
       "    <tr>\n",
       "      <th>2</th>\n",
       "      <td>BRD-K24576554-001-04-8</td>\n",
       "      <td>0.12</td>\n",
       "      <td>5</td>\n",
       "      <td>Aurora kinase inhibitor|JAK inhibitor</td>\n",
       "      <td>AT-9283</td>\n",
       "      <td>586</td>\n",
       "      <td>6.954569e-06</td>\n",
       "      <td>30.293511</td>\n",
       "    </tr>\n",
       "    <tr>\n",
       "      <th>3</th>\n",
       "      <td>BRD-K07881437-001-03-8</td>\n",
       "      <td>0.37</td>\n",
       "      <td>5</td>\n",
       "      <td>Aurora kinase inhibitor|growth factor receptor...</td>\n",
       "      <td>danusertib</td>\n",
       "      <td>353</td>\n",
       "      <td>1.088438e-05</td>\n",
       "      <td>27.103758</td>\n",
       "    </tr>\n",
       "    <tr>\n",
       "      <th>4</th>\n",
       "      <td>BRD-K21718444-001-06-8</td>\n",
       "      <td>3.33</td>\n",
       "      <td>5</td>\n",
       "      <td>Abl kinase inhibitor|Aurora kinase inhibitor|F...</td>\n",
       "      <td>KW-2449</td>\n",
       "      <td>578</td>\n",
       "      <td>1.205541e-05</td>\n",
       "      <td>26.441848</td>\n",
       "    </tr>\n",
       "    <tr>\n",
       "      <th>...</th>\n",
       "      <td>...</td>\n",
       "      <td>...</td>\n",
       "      <td>...</td>\n",
       "      <td>...</td>\n",
       "      <td>...</td>\n",
       "      <td>...</td>\n",
       "      <td>...</td>\n",
       "      <td>...</td>\n",
       "    </tr>\n",
       "    <tr>\n",
       "      <th>9390</th>\n",
       "      <td>BRD-M39350793-334-01-1</td>\n",
       "      <td>0.12</td>\n",
       "      <td>1</td>\n",
       "      <td>adrenergic receptor antagonist</td>\n",
       "      <td>reboxetine</td>\n",
       "      <td>2410</td>\n",
       "      <td>NaN</td>\n",
       "      <td>NaN</td>\n",
       "    </tr>\n",
       "    <tr>\n",
       "      <th>9391</th>\n",
       "      <td>BRD-M39350793-334-01-1</td>\n",
       "      <td>0.37</td>\n",
       "      <td>1</td>\n",
       "      <td>adrenergic receptor antagonist</td>\n",
       "      <td>reboxetine</td>\n",
       "      <td>2359</td>\n",
       "      <td>NaN</td>\n",
       "      <td>NaN</td>\n",
       "    </tr>\n",
       "    <tr>\n",
       "      <th>9392</th>\n",
       "      <td>BRD-M39350793-334-01-1</td>\n",
       "      <td>1.11</td>\n",
       "      <td>1</td>\n",
       "      <td>adrenergic receptor antagonist</td>\n",
       "      <td>reboxetine</td>\n",
       "      <td>2856</td>\n",
       "      <td>NaN</td>\n",
       "      <td>NaN</td>\n",
       "    </tr>\n",
       "    <tr>\n",
       "      <th>9393</th>\n",
       "      <td>BRD-M39350793-334-01-1</td>\n",
       "      <td>3.33</td>\n",
       "      <td>1</td>\n",
       "      <td>adrenergic receptor antagonist</td>\n",
       "      <td>reboxetine</td>\n",
       "      <td>2654</td>\n",
       "      <td>NaN</td>\n",
       "      <td>NaN</td>\n",
       "    </tr>\n",
       "    <tr>\n",
       "      <th>9394</th>\n",
       "      <td>BRD-M39350793-334-01-1</td>\n",
       "      <td>10.00</td>\n",
       "      <td>1</td>\n",
       "      <td>adrenergic receptor antagonist</td>\n",
       "      <td>reboxetine</td>\n",
       "      <td>2547</td>\n",
       "      <td>NaN</td>\n",
       "      <td>NaN</td>\n",
       "    </tr>\n",
       "  </tbody>\n",
       "</table>\n",
       "<p>9395 rows × 8 columns</p>\n",
       "</div>"
      ],
      "text/plain": [
       "       Metadata_broad_sample  Metadata_mmoles_per_liter  0  \\\n",
       "0     BRD-K24576554-001-04-8                       0.37  5   \n",
       "1     BRD-A61221616-001-04-3                       0.04  5   \n",
       "2     BRD-K24576554-001-04-8                       0.12  5   \n",
       "3     BRD-K07881437-001-03-8                       0.37  5   \n",
       "4     BRD-K21718444-001-06-8                       3.33  5   \n",
       "...                      ...                        ... ..   \n",
       "9390  BRD-M39350793-334-01-1                       0.12  1   \n",
       "9391  BRD-M39350793-334-01-1                       0.37  1   \n",
       "9392  BRD-M39350793-334-01-1                       1.11  1   \n",
       "9393  BRD-M39350793-334-01-1                       3.33  1   \n",
       "9394  BRD-M39350793-334-01-1                      10.00  1   \n",
       "\n",
       "                                           Metadata_moa  \\\n",
       "0                 Aurora kinase inhibitor|JAK inhibitor   \n",
       "1                         progesterone receptor agonist   \n",
       "2                 Aurora kinase inhibitor|JAK inhibitor   \n",
       "3     Aurora kinase inhibitor|growth factor receptor...   \n",
       "4     Abl kinase inhibitor|Aurora kinase inhibitor|F...   \n",
       "...                                                 ...   \n",
       "9390                     adrenergic receptor antagonist   \n",
       "9391                     adrenergic receptor antagonist   \n",
       "9392                     adrenergic receptor antagonist   \n",
       "9393                     adrenergic receptor antagonist   \n",
       "9394                     adrenergic receptor antagonist   \n",
       "\n",
       "               Metadata_pert_name  Count_Cells  phenotype_abundance_pval  \\\n",
       "0                         AT-9283          499              5.144916e-07   \n",
       "1     medroxyprogesterone-acetate         2006              3.914460e-06   \n",
       "2                         AT-9283          586              6.954569e-06   \n",
       "3                      danusertib          353              1.088438e-05   \n",
       "4                         KW-2449          578              1.205541e-05   \n",
       "...                           ...          ...                       ...   \n",
       "9390                   reboxetine         2410                       NaN   \n",
       "9391                   reboxetine         2359                       NaN   \n",
       "9392                   reboxetine         2856                       NaN   \n",
       "9393                   reboxetine         2654                       NaN   \n",
       "9394                   reboxetine         2547                       NaN   \n",
       "\n",
       "      phenotype_abundance_t  \n",
       "0                 57.690956  \n",
       "1                 30.592161  \n",
       "2                 30.293511  \n",
       "3                 27.103758  \n",
       "4                 26.441848  \n",
       "...                     ...  \n",
       "9390                    NaN  \n",
       "9391                    NaN  \n",
       "9392                    NaN  \n",
       "9393                    NaN  \n",
       "9394                    NaN  \n",
       "\n",
       "[9395 rows x 8 columns]"
      ]
     },
     "execution_count": 68,
     "metadata": {},
     "output_type": "execute_result"
    }
   ],
   "source": [
    "drug_list_rank"
   ]
  },
  {
   "cell_type": "code",
   "execution_count": 69,
   "metadata": {},
   "outputs": [
    {
     "data": {
      "text/html": [
       "<div>\n",
       "<style scoped>\n",
       "    .dataframe tbody tr th:only-of-type {\n",
       "        vertical-align: middle;\n",
       "    }\n",
       "\n",
       "    .dataframe tbody tr th {\n",
       "        vertical-align: top;\n",
       "    }\n",
       "\n",
       "    .dataframe thead th {\n",
       "        text-align: right;\n",
       "    }\n",
       "</style>\n",
       "<table border=\"1\" class=\"dataframe\">\n",
       "  <thead>\n",
       "    <tr style=\"text-align: right;\">\n",
       "      <th></th>\n",
       "      <th>8843</th>\n",
       "    </tr>\n",
       "  </thead>\n",
       "  <tbody>\n",
       "    <tr>\n",
       "      <th>Metadata_broad_sample</th>\n",
       "      <td>BRD-A00147595-001-01-5</td>\n",
       "    </tr>\n",
       "    <tr>\n",
       "      <th>Metadata_mmoles_per_liter</th>\n",
       "      <td>0.04</td>\n",
       "    </tr>\n",
       "    <tr>\n",
       "      <th>0</th>\n",
       "      <td>4</td>\n",
       "    </tr>\n",
       "    <tr>\n",
       "      <th>Metadata_moa</th>\n",
       "      <td>insulin sensitizer|PPAR receptor partial agonist</td>\n",
       "    </tr>\n",
       "    <tr>\n",
       "      <th>Metadata_pert_name</th>\n",
       "      <td>balaglitazone</td>\n",
       "    </tr>\n",
       "    <tr>\n",
       "      <th>Count_Cells</th>\n",
       "      <td>1266</td>\n",
       "    </tr>\n",
       "    <tr>\n",
       "      <th>phenotype_abundance_pval</th>\n",
       "      <td>0.0162144</td>\n",
       "    </tr>\n",
       "    <tr>\n",
       "      <th>phenotype_abundance_t</th>\n",
       "      <td>-4.687</td>\n",
       "    </tr>\n",
       "  </tbody>\n",
       "</table>\n",
       "</div>"
      ],
      "text/plain": [
       "                                                                       8843\n",
       "Metadata_broad_sample                                BRD-A00147595-001-01-5\n",
       "Metadata_mmoles_per_liter                                              0.04\n",
       "0                                                                         4\n",
       "Metadata_moa               insulin sensitizer|PPAR receptor partial agonist\n",
       "Metadata_pert_name                                            balaglitazone\n",
       "Count_Cells                                                            1266\n",
       "phenotype_abundance_pval                                          0.0162144\n",
       "phenotype_abundance_t                                                -4.687"
      ]
     },
     "execution_count": 69,
     "metadata": {},
     "output_type": "execute_result"
    }
   ],
   "source": [
    "drug_list_rank[(drug_list_rank[\"Metadata_broad_sample\"]==X_Metadata_broad_sample) &\\\n",
    "           (drug_list_rank[\"Metadata_mmoles_per_liter\"]==float(X_Metadata_mmoles_per_liter))].T"
   ]
  },
  {
   "cell_type": "code",
   "execution_count": null,
   "metadata": {},
   "outputs": [],
   "source": [
    "dfRank4bokeh1=drug_list_rank.groupby(['Metadata_broad_sample','Metadata_mmoles_per_liter']).size().reset_index()\n",
    "dfRank4bokeh1['ticker1']=dfRank4bokeh1['Metadata_broad_sample'].astype(str)+'__'+dfRank4bokeh1['Metadata_mmoles_per_liter'].astype(str)#+'__'+dfRank4bokeh1['Metadata_Location']\n",
    "\n",
    "\n",
    "DEFAULT_TICKERS=dfRank4bokeh1['ticker1'].tolist()\n",
    "\n",
    "ticker1 = Select(title=\"Sample-Dose Ranked List\", value=DEFAULT_TICKERS[0], options=DEFAULT_TICKERS)"
   ]
  },
  {
   "cell_type": "code",
   "execution_count": 78,
   "metadata": {},
   "outputs": [
    {
     "data": {
      "text/plain": [
       "0.0"
      ]
     },
     "execution_count": 78,
     "metadata": {},
     "output_type": "execute_result"
    }
   ],
   "source": [
    "drug_list_rank[\"phenotype_abundance_pval\"][0].round(3)\n",
    "# format(6, '02d')"
   ]
  },
  {
   "cell_type": "code",
   "execution_count": 75,
   "metadata": {},
   "outputs": [
    {
     "ename": "NameError",
     "evalue": "name 'phenotype_abundance_pval' is not defined",
     "output_type": "error",
     "traceback": [
      "\u001b[0;31m---------------------------------------------------------------------------\u001b[0m",
      "\u001b[0;31mNameError\u001b[0m                                 Traceback (most recent call last)",
      "\u001b[0;32m<ipython-input-75-42a38c413480>\u001b[0m in \u001b[0;36m<module>\u001b[0;34m\u001b[0m\n\u001b[0;32m----> 1\u001b[0;31m \u001b[0mphenotype_abundance_pval\u001b[0m\u001b[0;34m\u001b[0m\u001b[0;34m\u001b[0m\u001b[0m\n\u001b[0m",
      "\u001b[0;31mNameError\u001b[0m: name 'phenotype_abundance_pval' is not defined"
     ]
    }
   ],
   "source": [
    "phenotype_abundance_pval"
   ]
  },
  {
   "cell_type": "code",
   "execution_count": 1,
   "metadata": {},
   "outputs": [],
   "source": [
    "title=\"\""
   ]
  },
  {
   "cell_type": "code",
   "execution_count": 2,
   "metadata": {},
   "outputs": [
    {
     "data": {
      "text/plain": [
       "0"
      ]
     },
     "execution_count": 2,
     "metadata": {},
     "output_type": "execute_result"
    }
   ],
   "source": [
    "len(title)"
   ]
  },
  {
   "cell_type": "code",
   "execution_count": 28,
   "metadata": {},
   "outputs": [
    {
     "data": {
      "text/html": [
       "<div>\n",
       "<style scoped>\n",
       "    .dataframe tbody tr th:only-of-type {\n",
       "        vertical-align: middle;\n",
       "    }\n",
       "\n",
       "    .dataframe tbody tr th {\n",
       "        vertical-align: top;\n",
       "    }\n",
       "\n",
       "    .dataframe thead th {\n",
       "        text-align: right;\n",
       "    }\n",
       "</style>\n",
       "<table border=\"1\" class=\"dataframe\">\n",
       "  <thead>\n",
       "    <tr style=\"text-align: right;\">\n",
       "      <th></th>\n",
       "      <th>Metadata_broad_sample</th>\n",
       "      <th>Metadata_mmoles_per_liter</th>\n",
       "      <th>Metadata_Plate</th>\n",
       "      <th>Metadata_Well</th>\n",
       "      <th>0</th>\n",
       "    </tr>\n",
       "  </thead>\n",
       "  <tbody>\n",
       "    <tr>\n",
       "      <th>0</th>\n",
       "      <td>BRD-A00147595-001-01-5</td>\n",
       "      <td>0.04</td>\n",
       "      <td>SQ00015196</td>\n",
       "      <td>B12</td>\n",
       "      <td>1</td>\n",
       "    </tr>\n",
       "    <tr>\n",
       "      <th>1</th>\n",
       "      <td>BRD-A00147595-001-01-5</td>\n",
       "      <td>0.04</td>\n",
       "      <td>SQ00015222</td>\n",
       "      <td>B12</td>\n",
       "      <td>1</td>\n",
       "    </tr>\n",
       "    <tr>\n",
       "      <th>2</th>\n",
       "      <td>BRD-A00147595-001-01-5</td>\n",
       "      <td>0.04</td>\n",
       "      <td>SQ00015223</td>\n",
       "      <td>B12</td>\n",
       "      <td>1</td>\n",
       "    </tr>\n",
       "    <tr>\n",
       "      <th>3</th>\n",
       "      <td>BRD-A00147595-001-01-5</td>\n",
       "      <td>0.04</td>\n",
       "      <td>SQ00015224</td>\n",
       "      <td>B12</td>\n",
       "      <td>1</td>\n",
       "    </tr>\n",
       "  </tbody>\n",
       "</table>\n",
       "</div>"
      ],
      "text/plain": [
       "    Metadata_broad_sample  Metadata_mmoles_per_liter Metadata_Plate  \\\n",
       "0  BRD-A00147595-001-01-5                       0.04     SQ00015196   \n",
       "1  BRD-A00147595-001-01-5                       0.04     SQ00015222   \n",
       "2  BRD-A00147595-001-01-5                       0.04     SQ00015223   \n",
       "3  BRD-A00147595-001-01-5                       0.04     SQ00015224   \n",
       "\n",
       "  Metadata_Well  0  \n",
       "0           B12  1  \n",
       "1           B12  1  \n",
       "2           B12  1  \n",
       "3           B12  1  "
      ]
     },
     "execution_count": 28,
     "metadata": {},
     "output_type": "execute_result"
    }
   ],
   "source": [
    "X_Metadata_broad_sample,X_Metadata_mmoles_per_liter=\"BRD-A00147595-001-01-5\",\"0.04\"\n",
    "df_to_disp=meta_lincs2[(meta_lincs2[\"Metadata_broad_sample\"]==X_Metadata_broad_sample) &\\\n",
    "           (meta_lincs2[\"Metadata_mmoles_per_liter\"]==float(X_Metadata_mmoles_per_liter))].reset_index(drop=True)\n",
    "df_to_disp"
   ]
  },
  {
   "cell_type": "code",
   "execution_count": null,
   "metadata": {},
   "outputs": [],
   "source": []
  },
  {
   "cell_type": "code",
   "execution_count": 58,
   "metadata": {},
   "outputs": [],
   "source": [
    "wss=['A','B','C','D','E','F','G','H','I','J','K','L','M','N','O','P']\n",
    "imss=[]\n",
    "for r in range(df_to_disp.shape[0]):\n",
    "    p,w=df_to_disp.loc[r,[\"Metadata_Plate\",\"Metadata_Well\"]].values\n",
    "#     print(p,w)\n",
    "    # select a random site\n",
    "    site=10\n",
    "\n",
    "    row=wss.index(w[0])+1\n",
    "    wellCode='r0'+str(row)+'c'+w[1:]    \n",
    "    \n",
    "    ch=1\n",
    "    img_all_chans=[]\n",
    "    for ch in range(1,6):\n",
    "        png_addr=ImFilesRoot+\"/\"+p+\"/\"+wellCode+\"f08p01-ch\"+str(ch)+\"sk1fk1fl1.png\"\n",
    "        img_all_chans.append(skimage.io.imread(png_addr)[:,:,np.newaxis])\n",
    "        \n",
    "    all_chans_arr=np.concatenate(img_all_chans,axis=2)\n",
    "    rgb_im=CP_to_RGB_single(all_chans_arr)\n",
    "    imss.append(rgb_im)"
   ]
  },
  {
   "cell_type": "code",
   "execution_count": 59,
   "metadata": {},
   "outputs": [
    {
     "data": {
      "text/plain": [
       "4"
      ]
     },
     "execution_count": 59,
     "metadata": {},
     "output_type": "execute_result"
    }
   ],
   "source": [
    "len(imss)"
   ]
  },
  {
   "cell_type": "code",
   "execution_count": 43,
   "metadata": {},
   "outputs": [
    {
     "data": {
      "text/plain": [
       "<Figure size 432x288 with 0 Axes>"
      ]
     },
     "metadata": {},
     "output_type": "display_data"
    }
   ],
   "source": [
    "import skimage.io\n",
    "plt.figure()\n",
    "img = skimage.io.imread(png_addr)"
   ]
  },
  {
   "cell_type": "code",
   "execution_count": 44,
   "metadata": {},
   "outputs": [
    {
     "data": {
      "text/plain": [
       "(1080, 1080)"
      ]
     },
     "execution_count": 44,
     "metadata": {},
     "output_type": "execute_result"
    }
   ],
   "source": [
    "img.shape"
   ]
  },
  {
   "cell_type": "code",
   "execution_count": 54,
   "metadata": {},
   "outputs": [],
   "source": [
    "def CP_to_RGB_single(im_cp):\n",
    "    # change channels first to channels last format\n",
    "    channel_first=False\n",
    "    if im_cp.shape[0]<10:\n",
    "        channel_first=True\n",
    "        im_cp = np.moveaxis(im_cp, 0, 2)\n",
    "    col1 = np.array([0, 0, 255], dtype=np.uint8)\n",
    "    col2 = np.array([0, 255, 0], dtype=np.uint8)\n",
    "    col3 = np.array([255, 255, 0], dtype=np.uint8)\n",
    "    col4 = np.array([255, 150, 0], dtype=np.uint8)\n",
    "    col5 = np.array([255, 0, 0], dtype=np.uint8)\n",
    "    channel_colors=[col1,col2,col3,col4,col5]\n",
    "    comb_pars=[3,2,3,2,2]\n",
    "    colorImagesList=[]\n",
    "#     print(im_cp.shape[2])\n",
    "    for i in range(im_cp.shape[2]):\n",
    "        image_gray=im_cp[:,:,i]\n",
    "        image_gray_normalized,_=normalize(image_gray)\n",
    "        image_color=colorize_image(image_gray_normalized, channel_colors[i])\n",
    "        colorImagesList.append(image_color)\n",
    "        colorImagesList2 = [a * b.astype(np.uint16) for a, b in zip(comb_pars, colorImagesList)]\n",
    "    colorImage0,_=normalize(sum(colorImagesList2));\n",
    "    colorImage0=skimage.img_as_float64(colorImage0)\n",
    "#         print(image_gray.shape,image_gray_normalized.shape,image_color.shape,colorImage0.shape)\n",
    "    if channel_first:\n",
    "        colorImage = np.moveaxis(colorImage0, 2, 0)\n",
    "    else:\n",
    "        colorImage=colorImage0.copy()\n",
    "    return colorImage\n",
    "\n",
    "def colorize_image(img, col):\n",
    "\n",
    "    # rescale image\n",
    "    img_float = img.astype(np.float)\n",
    "    img_float = img_float / 255\n",
    "\n",
    "    # colorize\n",
    "    img_col_float = np.reshape(img_float, img_float.shape + (1,)) * col\n",
    "    img_col_byte = img_col_float.astype(np.uint8)\n",
    "\n",
    "    return img_col_byte\n",
    "#         [64, 5, 128, 128]\n",
    "#         return im_RGB\n",
    "\n",
    "def normalize(img):\n",
    "\n",
    "    # normalize to [0,1]\n",
    "    img=abs(img.min())+img\n",
    "    percentile = 99.95\n",
    "    high = np.percentile(img, percentile)\n",
    "    low = np.percentile(img, 100-percentile)\n",
    "\n",
    "    img = np.minimum(high, img)\n",
    "    img = np.maximum(low, img)\n",
    "\n",
    "#     img = (img - low) / (high - low) # gives float64, thus cast to 8 bit later\n",
    "#     vmin, vmax = scipy.stats.scoreatpercentile(image, (0.05, 99.95))\n",
    "#     vmax = min(vmax, pmax)\n",
    "    image_01 = skimage.exposure.rescale_intensity(img, in_range=(low, high))\n",
    "    \n",
    "#     image = skimage.exposure.rescale_intensity(img, in_range=(-1, 1))\n",
    "    image_01[image_01>1]=1\n",
    "    image_01[image_01<0]=0\n",
    "#     image[image<-1]=-1\n",
    "#     print(image.min(),image.max())\n",
    "    img_255 = skimage.img_as_ubyte(image_01)\n",
    "#     print(img_255.min(),img_255.max())\n",
    "#     print(image_01.min(),image_01.max())\n",
    "    return img_255, image_01  "
   ]
  },
  {
   "cell_type": "code",
   "execution_count": null,
   "metadata": {},
   "outputs": [],
   "source": []
  }
 ],
 "metadata": {
  "kernelspec": {
   "display_name": "Python 3",
   "language": "python",
   "name": "python3"
  },
  "language_info": {
   "codemirror_mode": {
    "name": "ipython",
    "version": 3
   },
   "file_extension": ".py",
   "mimetype": "text/x-python",
   "name": "python",
   "nbconvert_exporter": "python",
   "pygments_lexer": "ipython3",
   "version": "3.6.10"
  }
 },
 "nbformat": 4,
 "nbformat_minor": 4
}

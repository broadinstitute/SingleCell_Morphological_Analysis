{
 "cells": [
  {
   "cell_type": "markdown",
   "metadata": {},
   "source": [
    "## Visualizing n random or representative cell in a given well\n",
    "- Inputs are:\n",
    "    -  **file_name** - .sql file path for the target plate(or a dataframe)\n",
    "    -  **well_name** - Well name\n",
    "    -  **n_cells** - number of single cells you want to visualize\n",
    "    -  **box_size** - size of box in pixels for cropping a cell\n",
    "    -  **channels** - list of channels you want to plot\n",
    "    -  **cell_selection_method** - can be one of the following methods\n",
    "        - random - generate n randomly selected cells\n",
    "        - representative - clusters the data and sample from the \"closest to mean cluster\"\n",
    "        - geometric_median - plots single sample than is the geometric median of samples\n",
    "        \n",
    "        \n",
    "#### Steps:\n",
    "\n",
    "- Reading the target well from the input plate \n",
    "- Sampling using cell_selection_method \n",
    "  "
   ]
  },
  {
   "cell_type": "code",
   "execution_count": 1,
   "metadata": {},
   "outputs": [],
   "source": [
    "%matplotlib notebook\n",
    "%load_ext autoreload\n",
    "%autoreload 2\n",
    "import pandas as pd\n",
    "import numpy as np\n",
    "import seaborn as sns\n",
    "sns.set(color_codes=True)\n",
    "from sklearn import preprocessing\n",
    "from sklearn.decomposition import PCA\n",
    "import matplotlib.pyplot as plt\n",
    "\n",
    "# from utils import read_data, visualize_data\n",
    "from utils.read_data import *\n",
    "from utils.visualize_data import *\n",
    "from sklearn.cluster import KMeans\n",
    "import time"
   ]
  },
  {
   "cell_type": "markdown",
   "metadata": {},
   "source": [
    "### Inputs"
   ]
  },
  {
   "cell_type": "code",
   "execution_count": 3,
   "metadata": {},
   "outputs": [],
   "source": [
    "file_name='/home/ubuntu/bucket/projects/2015_10_05_DrugRepurposing_AravindSubramanian_GolubLab_Broad/\\\n",
    "workspace/backend/2016_04_01_a549_48hr_batch1/SQ00015195/SQ00015195.sqlite'\n",
    "\n",
    "n_cells=6\n",
    "\n",
    "box_size=100\n",
    "\n",
    "well_name=[\"A10\"]\n",
    "\n",
    "# repEnabled= True\n",
    "# how we select cells which can be 'random','representative','geometric_median'\n",
    "cell_selection_method='geometric_median'\n",
    "\n",
    "channels=[\"Mito\",\"AGP\",\"DNA\",\"RNA\",\"ER\",\"Outline\"]"
   ]
  },
  {
   "cell_type": "code",
   "execution_count": null,
   "metadata": {},
   "outputs": [],
   "source": []
  },
  {
   "cell_type": "code",
   "execution_count": 7,
   "metadata": {},
   "outputs": [],
   "source": [
    "# python restore_intelligent.py imaging-platform \"projects/2015_10_05_DrugRepurposing_AravindSubramanian_GolubLab_Broad/workspace/backend/2016_04_01_a549_48hr_batch1/SQ00015195/\""
   ]
  },
  {
   "cell_type": "markdown",
   "metadata": {},
   "source": [
    "### Read single cell data"
   ]
  },
  {
   "cell_type": "code",
   "execution_count": null,
   "metadata": {},
   "outputs": [],
   "source": [
    "%%time\n",
    "df_p_s0=readSingleCellData_sqlalch_well_subset(file_name,well_name,\"Image_Metadata_Well\");"
   ]
  },
  {
   "cell_type": "code",
   "execution_count": null,
   "metadata": {},
   "outputs": [],
   "source": [
    "# df_p_s0[df_p_s0.columns[df_p_s0.columns.str.contains('utline')]]\n",
    "# df_p_s0.columns[df_p_s0.columns.str.contains('Image_Width_OrigDNA')]"
   ]
  },
  {
   "cell_type": "code",
   "execution_count": null,
   "metadata": {},
   "outputs": [],
   "source": [
    "# df_p_s.shape"
   ]
  },
  {
   "cell_type": "code",
   "execution_count": null,
   "metadata": {},
   "outputs": [],
   "source": [
    "# df_p_s[\"Image_Metadata_Site\"]"
   ]
  },
  {
   "cell_type": "markdown",
   "metadata": {},
   "source": [
    "### Visualize"
   ]
  },
  {
   "cell_type": "code",
   "execution_count": null,
   "metadata": {},
   "outputs": [],
   "source": [
    "df_p_s=df_p_s0.copy()\n",
    "\n",
    "images_dir=\"/home/ubuntu/bucket/projects/2015_10_05_DrugRepurposing_AravindSubramanian_GolubLab_Broad/2016_04_01_a549_48hr_batch1_compressed/\"\n",
    "\n",
    "for ch in channels[:-1]:\n",
    "    df_p_s[\"PathName_Orig\"+ch]=images_dir+\"images/\"+df_p_s[\"Image_Metadata_Plate\"].astype(str)\n",
    "    df_p_s[\"FileName_Orig\"+ch]=df_p_s[\"Image_FileName_Orig\"+ch].apply(lambda x: x.replace(\"tiff\",\"png\"))\n",
    "\n",
    "outlines_root_dir='/home/ubuntu/bucket/projects/2015_10_05_DrugRepurposing_AravindSubramanian_GolubLab_Broad/workspace/analysis/2016_04_01_a549_48hr_batch1_Mito_Project/'\n",
    "df_p_s[\"Path_Outlines\"] = outlines_root_dir+df_p_s[\"Image_Metadata_Plate\"].astype(str)+'/analysis/'+df_p_s[\"Image_Metadata_Well\"]+'-'+\\\n",
    "df_p_s[\"Image_Metadata_Plate\"].astype(str)+'/outlines/'+df_p_s[\"Image_Metadata_Well\"]+'_s'+\\\n",
    "df_p_s[\"Image_Metadata_Site\"].astype(int).astype(str)+'--cell_outlines.png'\n",
    "\n",
    "\n",
    "\n",
    "# cp_features, cp_features_analysis =  extract_feature_names(df_p_s);\n",
    " \n",
    "cell_selection_method='random'\n",
    "\n",
    "df_samples,cp_features_analysis = extract_single_cell_samples(df_p_s,n_cells,cell_selection_method);\n",
    "    \n",
    "visualize_n_SingleCell(channels,df_samples,box_size,title=cell_selection_method,compressed=True,compressed_im_size=1080);"
   ]
  },
  {
   "cell_type": "code",
   "execution_count": 48,
   "metadata": {},
   "outputs": [],
   "source": [
    "# ls /home/ubuntu/bucket/projects/2015_10_05_DrugRepurposing_AravindSubramanian_GolubLab_Broad/workspace/analysis/2016_04_01_a549_48hr_batch1_Mito_Project/SQ00015195/analysis/A10-SQ00015195/outlines/"
   ]
  },
  {
   "cell_type": "code",
   "execution_count": 6,
   "metadata": {},
   "outputs": [
    {
     "name": "stdout",
     "output_type": "stream",
     "text": [
      "\u001b[0m\u001b[01;34m2016_04_01_a549_48hr_batch1\u001b[0m/             \u001b[01;34m2017_12_05_Batch2\u001b[0m/\r\n",
      "\u001b[01;34m2016_04_01_a549_48hr_batch1_compressed\u001b[0m/  \u001b[01;34mworkspace\u001b[0m/\r\n"
     ]
    }
   ],
   "source": [
    "ls /home/ubuntu/bucket/projects/2015_10_05_DrugRepurposing_AravindSubramanian_GolubLab_Broad/"
   ]
  },
  {
   "cell_type": "code",
   "execution_count": 9,
   "metadata": {},
   "outputs": [],
   "source": [
    "# def unarchive_file(f2unarchive,bucket_name,user_profile):\n",
    "#     \"\"\"\n",
    "#     unarchive input file\n",
    "\n",
    "#     Inputs:\n",
    "#     bucket_name: eg, pooled-cell-painting, imaging-plateform\n",
    "#     user_profile: profile name that is used for accessing the above bucket (check in sudo vim ~/.aws/credentials)\n",
    "#     proj_path: path to the project eg,2018_11_20_Periscope_Calico/workspace/analysis/\n",
    "\n",
    "#     output:\n",
    "#     command to run\n",
    "#     \"\"\"\n",
    "\n",
    "#     cmd='aws s3api  restore-object  --profile '+user_profile+\\\n",
    "#             ' --bucket '+bucket_name+'  --key projects/2018_11_20_Periscope_Calico/workspace/analysis/'+f2unarchive+'   --restore-request GlacierJobParameters={\"Tier\"=\"Standard\"}'\n",
    "#     return cmd\n",
    "\n",
    "\n",
    "\n",
    "\n",
    "# for p in plates:\n",
    "#     for w in wells:\n",
    "#         for s in sites:\n",
    "#             f2unarchive=batch+'/'+p+'-'+w+'-'+s+'/CorrDNA_Site_'+s+'_Overlay.png'\n",
    "#             cmd='aws s3api  restore-object  --profile '+user_profile+\\\n",
    "#             ' --bucket '+bucket_name+'  --key projects/2018_11_20_Periscope_Calico/workspace/analysis/'+f2unarchive+'   --restore-request GlacierJobParameters={\"Tier\"=\"Standard\"}'\n",
    "#             print(cmd)\n",
    "# #             os.system(cmd)"
   ]
  },
  {
   "cell_type": "code",
   "execution_count": null,
   "metadata": {},
   "outputs": [],
   "source": []
  }
 ],
 "metadata": {
  "kernelspec": {
   "display_name": "Python 3 (ipykernel)",
   "language": "python",
   "name": "python3"
  },
  "language_info": {
   "codemirror_mode": {
    "name": "ipython",
    "version": 3
   },
   "file_extension": ".py",
   "mimetype": "text/x-python",
   "name": "python",
   "nbconvert_exporter": "python",
   "pygments_lexer": "ipython3",
   "version": "3.9.0"
  },
  "latex_envs": {
   "LaTeX_envs_menu_present": true,
   "autoclose": false,
   "autocomplete": true,
   "bibliofile": "biblio.bib",
   "cite_by": "apalike",
   "current_citInitial": 1,
   "eqLabelWithNumbers": true,
   "eqNumInitial": 1,
   "hotkeys": {
    "equation": "Ctrl-E",
    "itemize": "Ctrl-I"
   },
   "labels_anchors": false,
   "latex_user_defs": false,
   "report_style_numbering": false,
   "user_envs_cfg": false
  },
  "varInspector": {
   "cols": {
    "lenName": 16,
    "lenType": 16,
    "lenVar": 40
   },
   "kernels_config": {
    "python": {
     "delete_cmd_postfix": "",
     "delete_cmd_prefix": "del ",
     "library": "var_list.py",
     "varRefreshCmd": "print(var_dic_list())"
    },
    "r": {
     "delete_cmd_postfix": ") ",
     "delete_cmd_prefix": "rm(",
     "library": "var_list.r",
     "varRefreshCmd": "cat(var_dic_list()) "
    }
   },
   "types_to_exclude": [
    "module",
    "function",
    "builtin_function_or_method",
    "instance",
    "_Feature"
   ],
   "window_display": false
  }
 },
 "nbformat": 4,
 "nbformat_minor": 4
}

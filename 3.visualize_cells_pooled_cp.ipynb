{
 "cells": [
  {
   "cell_type": "markdown",
   "metadata": {},
   "source": [
    "## Visualizing n random or representative cell in a given well\n",
    "- Inputs are:\n",
    "    -  **file_name** - .sql file path for the target plate(or a dataframe)\n",
    "    -  **well_name** - Well name\n",
    "    -  **n_cells** - number of single cells you want to visualize\n",
    "    -  **box_size** - size of box in pixels for cropping a cell\n",
    "    -  **channels** - list of channels you want to plot\n",
    "    -  **cell_selection_method** - can be one of the following methods\n",
    "        - random - generate n randomly selected cells\n",
    "        - representative - clusters the data and sample from the \"closest to mean cluster\"\n",
    "        - geometric_median - plots single sample than is the geometric median of samples\n",
    "        \n",
    "        \n",
    "#### Steps:\n",
    "\n",
    "- Reading the target well from the input plate \n",
    "- Sampling using cell_selection_method \n",
    "  "
   ]
  },
  {
   "cell_type": "code",
   "execution_count": 1,
   "metadata": {},
   "outputs": [],
   "source": [
    "%matplotlib notebook\n",
    "%load_ext autoreload\n",
    "%autoreload 2\n",
    "import pandas as pd\n",
    "import numpy as np\n",
    "import seaborn as sns\n",
    "sns.set(color_codes=True)\n",
    "from sklearn import preprocessing\n",
    "from sklearn.decomposition import PCA\n",
    "import matplotlib.pyplot as plt\n",
    "\n",
    "# from utils import read_data, visualize_data\n",
    "from utils.read_data import *\n",
    "from utils.visualize_data import *\n",
    "from sklearn.cluster import KMeans\n",
    "import time"
   ]
  },
  {
   "cell_type": "markdown",
   "metadata": {},
   "source": [
    "### Inputs"
   ]
  },
  {
   "cell_type": "code",
   "execution_count": 4,
   "metadata": {},
   "outputs": [],
   "source": [
    "file_name='/home/ubuntu/calbucket/projects/2018_11_20_Periscope_Calico/workspace/\\\n",
    "software/CP186-A549-WG/data/1.profiles/20200805_A549_WG_Screen/single_cell/\\\n",
    "single_cell_by_guide/20200805_A549_WG_Screen_single_cell_normalized_ALLBATCHES__GTTGAAGAGCTAGATCAACG_KRT28.csv.gz'\n",
    "\n",
    "n_cells=6\n",
    "\n",
    "box_size=100\n",
    "\n",
    "well_name=[\"A10\"]\n",
    "\n",
    "# repEnabled= True\n",
    "# how we select cells which can be 'random','representative','geometric_median'\n",
    "cell_selection_method='geometric_median'\n",
    "\n",
    "channels=[\"Mito\",\"AGP\",\"DNA\",\"RNA\",\"ER\",\"Outline\"]"
   ]
  },
  {
   "cell_type": "code",
   "execution_count": null,
   "metadata": {},
   "outputs": [],
   "source": [
    "batch='20210422_6W_CP257';"
   ]
  },
  {
   "cell_type": "code",
   "execution_count": 23,
   "metadata": {},
   "outputs": [],
   "source": [
    "# os.listdir(\"/home/ubuntu/calbucket/projects/2018_11_20_Periscope_Calico/workspace/software/CP257-HeLa-WG/data/1.profiles/20210422_6W_CP257/single_cell/\")"
   ]
  },
  {
   "cell_type": "code",
   "execution_count": 7,
   "metadata": {},
   "outputs": [],
   "source": [
    "# python restore_intelligent.py imaging-platform \"projects/2015_10_05_DrugRepurposing_AravindSubramanian_GolubLab_Broad/workspace/backend/2016_04_01_a549_48hr_batch1/SQ00015195/\""
   ]
  },
  {
   "cell_type": "markdown",
   "metadata": {
    "heading_collapsed": true
   },
   "source": [
    "### Read single cell data"
   ]
  },
  {
   "cell_type": "code",
   "execution_count": 5,
   "metadata": {
    "hidden": true
   },
   "outputs": [
    {
     "name": "stdout",
     "output_type": "stream",
     "text": [
      "CPU times: user 1min 4s, sys: 3.43 s, total: 1min 7s\n",
      "Wall time: 1min 16s\n"
     ]
    },
    {
     "data": {
      "text/html": [
       "<div>\n",
       "<style scoped>\n",
       "    .dataframe tbody tr th:only-of-type {\n",
       "        vertical-align: middle;\n",
       "    }\n",
       "\n",
       "    .dataframe tbody tr th {\n",
       "        vertical-align: top;\n",
       "    }\n",
       "\n",
       "    .dataframe thead th {\n",
       "        text-align: right;\n",
       "    }\n",
       "</style>\n",
       "<table border=\"1\" class=\"dataframe\">\n",
       "  <thead>\n",
       "    <tr style=\"text-align: right;\">\n",
       "      <th></th>\n",
       "      <th>Metadata_Foci_Parent_Cells</th>\n",
       "      <th>Metadata_Foci_Cell_Quality_Index</th>\n",
       "      <th>Metadata_Foci_Barcode_MatchedTo_GeneCode</th>\n",
       "      <th>Metadata_Foci_Barcode_MatchedTo_Barcode</th>\n",
       "      <th>Metadata_Foci_Barcode_MatchedTo_Score_mean</th>\n",
       "      <th>Metadata_Foci_Barcode_MatchedTo_Score_count</th>\n",
       "      <th>Metadata_Foci_cell_quality_method</th>\n",
       "      <th>Metadata_Foci_ImageNumber</th>\n",
       "      <th>Metadata_Foci_site</th>\n",
       "      <th>Metadata_Foci_plate</th>\n",
       "      <th>...</th>\n",
       "      <th>Align_Xshift_WGA</th>\n",
       "      <th>Align_Yshift_AlignedRed</th>\n",
       "      <th>Align_Yshift_ConA</th>\n",
       "      <th>Align_Yshift_DAPI_Painting</th>\n",
       "      <th>Align_Yshift_Mito</th>\n",
       "      <th>Align_Yshift_Phalloidin</th>\n",
       "      <th>Align_Yshift_WGA</th>\n",
       "      <th>Metadata_site</th>\n",
       "      <th>Cells_AreaShape_Center_X</th>\n",
       "      <th>Cells_AreaShape_Center_Y</th>\n",
       "    </tr>\n",
       "  </thead>\n",
       "  <tbody>\n",
       "    <tr>\n",
       "      <th>0</th>\n",
       "      <td>93</td>\n",
       "      <td>2</td>\n",
       "      <td>KRT28</td>\n",
       "      <td>GTTGAAGAGCTAGATCAACG</td>\n",
       "      <td>0.83333</td>\n",
       "      <td>1</td>\n",
       "      <td>simple</td>\n",
       "      <td>441</td>\n",
       "      <td>CP186A-Well3-75</td>\n",
       "      <td>CP186A</td>\n",
       "      <td>...</td>\n",
       "      <td>-7.0</td>\n",
       "      <td>0.0</td>\n",
       "      <td>56.0</td>\n",
       "      <td>56.0</td>\n",
       "      <td>56.0</td>\n",
       "      <td>56.0</td>\n",
       "      <td>56.0</td>\n",
       "      <td>CP186A-Well3-75</td>\n",
       "      <td>5126.00</td>\n",
       "      <td>84.667</td>\n",
       "    </tr>\n",
       "    <tr>\n",
       "      <th>1</th>\n",
       "      <td>198</td>\n",
       "      <td>2</td>\n",
       "      <td>KRT28</td>\n",
       "      <td>GTTGAAGAGCTAGATCAACG</td>\n",
       "      <td>0.83333</td>\n",
       "      <td>2</td>\n",
       "      <td>simple</td>\n",
       "      <td>441</td>\n",
       "      <td>CP186A-Well3-75</td>\n",
       "      <td>CP186A</td>\n",
       "      <td>...</td>\n",
       "      <td>-7.0</td>\n",
       "      <td>0.0</td>\n",
       "      <td>56.0</td>\n",
       "      <td>56.0</td>\n",
       "      <td>56.0</td>\n",
       "      <td>56.0</td>\n",
       "      <td>56.0</td>\n",
       "      <td>CP186A-Well3-75</td>\n",
       "      <td>672.33</td>\n",
       "      <td>129.980</td>\n",
       "    </tr>\n",
       "    <tr>\n",
       "      <th>2</th>\n",
       "      <td>1428</td>\n",
       "      <td>2</td>\n",
       "      <td>KRT28</td>\n",
       "      <td>GTTGAAGAGCTAGATCAACG</td>\n",
       "      <td>0.83333</td>\n",
       "      <td>1</td>\n",
       "      <td>simple</td>\n",
       "      <td>441</td>\n",
       "      <td>CP186A-Well3-75</td>\n",
       "      <td>CP186A</td>\n",
       "      <td>...</td>\n",
       "      <td>-7.0</td>\n",
       "      <td>0.0</td>\n",
       "      <td>56.0</td>\n",
       "      <td>56.0</td>\n",
       "      <td>56.0</td>\n",
       "      <td>56.0</td>\n",
       "      <td>56.0</td>\n",
       "      <td>CP186A-Well3-75</td>\n",
       "      <td>2576.20</td>\n",
       "      <td>1012.900</td>\n",
       "    </tr>\n",
       "    <tr>\n",
       "      <th>3</th>\n",
       "      <td>1584</td>\n",
       "      <td>2</td>\n",
       "      <td>KRT28</td>\n",
       "      <td>GTTGAAGAGCTAGATCAACG</td>\n",
       "      <td>0.83333</td>\n",
       "      <td>2</td>\n",
       "      <td>simple</td>\n",
       "      <td>441</td>\n",
       "      <td>CP186A-Well3-75</td>\n",
       "      <td>CP186A</td>\n",
       "      <td>...</td>\n",
       "      <td>-7.0</td>\n",
       "      <td>0.0</td>\n",
       "      <td>56.0</td>\n",
       "      <td>56.0</td>\n",
       "      <td>56.0</td>\n",
       "      <td>56.0</td>\n",
       "      <td>56.0</td>\n",
       "      <td>CP186A-Well3-75</td>\n",
       "      <td>2423.60</td>\n",
       "      <td>1101.000</td>\n",
       "    </tr>\n",
       "    <tr>\n",
       "      <th>4</th>\n",
       "      <td>1586</td>\n",
       "      <td>2</td>\n",
       "      <td>KRT28</td>\n",
       "      <td>GTTGAAGAGCTAGATCAACG</td>\n",
       "      <td>0.83333</td>\n",
       "      <td>9</td>\n",
       "      <td>simple</td>\n",
       "      <td>441</td>\n",
       "      <td>CP186A-Well3-75</td>\n",
       "      <td>CP186A</td>\n",
       "      <td>...</td>\n",
       "      <td>-7.0</td>\n",
       "      <td>0.0</td>\n",
       "      <td>56.0</td>\n",
       "      <td>56.0</td>\n",
       "      <td>56.0</td>\n",
       "      <td>56.0</td>\n",
       "      <td>56.0</td>\n",
       "      <td>CP186A-Well3-75</td>\n",
       "      <td>2600.80</td>\n",
       "      <td>1115.700</td>\n",
       "    </tr>\n",
       "  </tbody>\n",
       "</table>\n",
       "<p>5 rows × 3810 columns</p>\n",
       "</div>"
      ],
      "text/plain": [
       "   Metadata_Foci_Parent_Cells  Metadata_Foci_Cell_Quality_Index  \\\n",
       "0                          93                                 2   \n",
       "1                         198                                 2   \n",
       "2                        1428                                 2   \n",
       "3                        1584                                 2   \n",
       "4                        1586                                 2   \n",
       "\n",
       "  Metadata_Foci_Barcode_MatchedTo_GeneCode  \\\n",
       "0                                    KRT28   \n",
       "1                                    KRT28   \n",
       "2                                    KRT28   \n",
       "3                                    KRT28   \n",
       "4                                    KRT28   \n",
       "\n",
       "  Metadata_Foci_Barcode_MatchedTo_Barcode  \\\n",
       "0                    GTTGAAGAGCTAGATCAACG   \n",
       "1                    GTTGAAGAGCTAGATCAACG   \n",
       "2                    GTTGAAGAGCTAGATCAACG   \n",
       "3                    GTTGAAGAGCTAGATCAACG   \n",
       "4                    GTTGAAGAGCTAGATCAACG   \n",
       "\n",
       "   Metadata_Foci_Barcode_MatchedTo_Score_mean  \\\n",
       "0                                     0.83333   \n",
       "1                                     0.83333   \n",
       "2                                     0.83333   \n",
       "3                                     0.83333   \n",
       "4                                     0.83333   \n",
       "\n",
       "   Metadata_Foci_Barcode_MatchedTo_Score_count  \\\n",
       "0                                            1   \n",
       "1                                            2   \n",
       "2                                            1   \n",
       "3                                            2   \n",
       "4                                            9   \n",
       "\n",
       "  Metadata_Foci_cell_quality_method  Metadata_Foci_ImageNumber  \\\n",
       "0                            simple                        441   \n",
       "1                            simple                        441   \n",
       "2                            simple                        441   \n",
       "3                            simple                        441   \n",
       "4                            simple                        441   \n",
       "\n",
       "  Metadata_Foci_site Metadata_Foci_plate  ... Align_Xshift_WGA  \\\n",
       "0    CP186A-Well3-75              CP186A  ...             -7.0   \n",
       "1    CP186A-Well3-75              CP186A  ...             -7.0   \n",
       "2    CP186A-Well3-75              CP186A  ...             -7.0   \n",
       "3    CP186A-Well3-75              CP186A  ...             -7.0   \n",
       "4    CP186A-Well3-75              CP186A  ...             -7.0   \n",
       "\n",
       "   Align_Yshift_AlignedRed Align_Yshift_ConA  Align_Yshift_DAPI_Painting  \\\n",
       "0                      0.0              56.0                        56.0   \n",
       "1                      0.0              56.0                        56.0   \n",
       "2                      0.0              56.0                        56.0   \n",
       "3                      0.0              56.0                        56.0   \n",
       "4                      0.0              56.0                        56.0   \n",
       "\n",
       "   Align_Yshift_Mito  Align_Yshift_Phalloidin  Align_Yshift_WGA  \\\n",
       "0               56.0                     56.0              56.0   \n",
       "1               56.0                     56.0              56.0   \n",
       "2               56.0                     56.0              56.0   \n",
       "3               56.0                     56.0              56.0   \n",
       "4               56.0                     56.0              56.0   \n",
       "\n",
       "     Metadata_site  Cells_AreaShape_Center_X  Cells_AreaShape_Center_Y  \n",
       "0  CP186A-Well3-75                   5126.00                    84.667  \n",
       "1  CP186A-Well3-75                    672.33                   129.980  \n",
       "2  CP186A-Well3-75                   2576.20                  1012.900  \n",
       "3  CP186A-Well3-75                   2423.60                  1101.000  \n",
       "4  CP186A-Well3-75                   2600.80                  1115.700  \n",
       "\n",
       "[5 rows x 3810 columns]"
      ]
     },
     "execution_count": 5,
     "metadata": {},
     "output_type": "execute_result"
    }
   ],
   "source": [
    "%%time\n",
    "df_p_s0=pd.read_csv(file_name);\n",
    "df_p_s0.head()"
   ]
  },
  {
   "cell_type": "code",
   "execution_count": null,
   "metadata": {
    "hidden": true
   },
   "outputs": [],
   "source": []
  },
  {
   "cell_type": "code",
   "execution_count": 13,
   "metadata": {
    "hidden": true
   },
   "outputs": [
    {
     "data": {
      "text/plain": [
       "Index([], dtype='object')"
      ]
     },
     "execution_count": 13,
     "metadata": {},
     "output_type": "execute_result"
    }
   ],
   "source": [
    "# df_p_s0[df_p_s0.columns[df_p_s0.columns.str.contains('utline')]]\n",
    "df_p_s0.columns[df_p_s0.columns.str.contains('uid')]"
   ]
  },
  {
   "cell_type": "code",
   "execution_count": 8,
   "metadata": {
    "hidden": true
   },
   "outputs": [],
   "source": [
    "# df_p_s0['Cells_AreaShape_Center_X'].describe()"
   ]
  },
  {
   "cell_type": "code",
   "execution_count": null,
   "metadata": {
    "hidden": true
   },
   "outputs": [],
   "source": [
    "\n"
   ]
  },
  {
   "cell_type": "markdown",
   "metadata": {},
   "source": [
    "### Visualize"
   ]
  },
  {
   "cell_type": "code",
   "execution_count": 9,
   "metadata": {},
   "outputs": [
    {
     "ename": "NameError",
     "evalue": "name 'df_p_s0' is not defined",
     "output_type": "error",
     "traceback": [
      "\u001b[0;31m---------------------------------------------------------------------------\u001b[0m",
      "\u001b[0;31mNameError\u001b[0m                                 Traceback (most recent call last)",
      "\u001b[0;32m/tmp/ipykernel_25070/1777061588.py\u001b[0m in \u001b[0;36m<module>\u001b[0;34m\u001b[0m\n\u001b[0;32m----> 1\u001b[0;31m \u001b[0mdf_p_s\u001b[0m\u001b[0;34m=\u001b[0m\u001b[0mdf_p_s0\u001b[0m\u001b[0;34m.\u001b[0m\u001b[0mcopy\u001b[0m\u001b[0;34m(\u001b[0m\u001b[0;34m)\u001b[0m\u001b[0;34m\u001b[0m\u001b[0;34m\u001b[0m\u001b[0m\n\u001b[0m\u001b[1;32m      2\u001b[0m \u001b[0mrootDir\u001b[0m\u001b[0;34m=\u001b[0m\u001b[0;34m'/home/ubuntu/calbucket/projects/2018_11_20_Periscope_Calico/'\u001b[0m\u001b[0;34m\u001b[0m\u001b[0;34m\u001b[0m\u001b[0m\n\u001b[1;32m      3\u001b[0m \u001b[0mbatch\u001b[0m\u001b[0;34m=\u001b[0m\u001b[0;34m'20200805_A549_WG_Screen'\u001b[0m\u001b[0;34m;\u001b[0m\u001b[0;34m\u001b[0m\u001b[0;34m\u001b[0m\u001b[0m\n\u001b[1;32m      4\u001b[0m \u001b[0mim_size\u001b[0m\u001b[0;34m=\u001b[0m\u001b[0;36m5500\u001b[0m\u001b[0;34m\u001b[0m\u001b[0;34m\u001b[0m\u001b[0m\n\u001b[1;32m      5\u001b[0m \u001b[0;34m\u001b[0m\u001b[0m\n",
      "\u001b[0;31mNameError\u001b[0m: name 'df_p_s0' is not defined"
     ]
    }
   ],
   "source": [
    "df_p_s=df_p_s0.copy()\n",
    "rootDir='/home/ubuntu/calbucket/projects/2018_11_20_Periscope_Calico/'\n",
    "batch='20200805_A549_WG_Screen';\n",
    "im_size=5500\n",
    "\n",
    "channels=['DNA','Mito','Phalloidin','WGA','ER','Outline']\n",
    "for ch in channels:\n",
    "    df_p_s[\"PathName_Corr\"+ch]=rootDir+batch+'/images_corrected_cropped/'+df_p_s[\"Metadata_Foci_plate\"]+'_'+df_p_s[\"Metadata_Foci_well\"]+'/Corr'+ch\n",
    "    df_p_s[\"FileName_Corr\"+ch]=\"Corr\"+ch+\"_\"+\"Site_\"+df_p_s[\"Metadata_Foci_site_location\"].astype(str)+\".tiff\"\n",
    "\n",
    "df_p_s[\"Path_Outlines\"]=rootDir+'workspace/analysis/'+batch+'/'+df_p_s[\"Metadata_Foci_plate\"]+'-'+df_p_s[\"Metadata_Foci_well\"]+'-'+df_p_s[\"Metadata_Foci_site_location\"].astype(str)+'/'\\\n",
    "+'/CorrDNA_Site_'+df_p_s[\"Metadata_Foci_site_location\"].astype(str)+'_Overlay.png'\n",
    "\n",
    "df_p_s[\"Nuclei_Location_Center_X\"]=df_p_s[\"Cells_AreaShape_Center_X\"];\n",
    "df_p_s[\"Nuclei_Location_Center_Y\"]=df_p_s[\"Cells_AreaShape_Center_Y\"];\n",
    "\n",
    "df_p_s=edgeCellFilter2(df_p_s,im_size,box_size/2);\n",
    "\n",
    "df_samples = extract_single_cell_samples(df_p_s.sample(n = 1500, replace = False).reset_index(drop=True),n_cells,cell_selection_method);\n",
    "\n",
    "\n",
    "visualize_n_SingleCell_pooled(channels,df_samples,box_size,im_size,title=cell_selection_method);"
   ]
  },
  {
   "cell_type": "code",
   "execution_count": 13,
   "metadata": {},
   "outputs": [],
   "source": [
    "# visualize_n_SingleCell_pooled(channels,df_samples,box_size,im_size,title=cell_selection_method);"
   ]
  },
  {
   "cell_type": "code",
   "execution_count": null,
   "metadata": {},
   "outputs": [],
   "source": []
  },
  {
   "cell_type": "code",
   "execution_count": null,
   "metadata": {},
   "outputs": [],
   "source": [
    "# def unarchive_file(f2unarchive,bucket_name,user_profile):\n",
    "#     \"\"\"\n",
    "#     unarchive input file\n",
    "\n",
    "#     Inputs:\n",
    "#     bucket_name: eg, pooled-cell-painting, imaging-plateform\n",
    "#     user_profile: profile name that is used for accessing the above bucket (check in sudo vim ~/.aws/credentials)\n",
    "#     proj_path: path to the project eg,2018_11_20_Periscope_Calico/workspace/analysis/\n",
    "\n",
    "#     output:\n",
    "#     command to run\n",
    "#     \"\"\"\n",
    "\n",
    "#     cmd='aws s3api  restore-object  --profile '+user_profile+\\\n",
    "#             ' --bucket '+bucket_name+'  --key projects/2018_11_20_Periscope_Calico/workspace/analysis/'+f2unarchive+'   --restore-request GlacierJobParameters={\"Tier\"=\"Standard\"}'\n",
    "#     return cmd\n",
    "\n",
    "user_profile='calico'\n",
    "bucket_name='pooled-cell-painting'\n",
    "\n",
    "# for p in plates:\n",
    "#     for w in wells:\n",
    "#         for s in sites:\n",
    "# plate_well_dirs_ls=os.listdir(rootDir+'/workspace/analysis/'+batch)\n",
    "for di in plate_well_dirs_ls:\n",
    "    f2unarchive='workspace/analysis/'+batch+'/'+di+'/CorrDNA_Site_'+di.split('-')[-1]+'_Overlay.png'\n",
    "    if os.path.exists(rootDir+f2unarchive):\n",
    "        cmd='aws s3api  restore-object  --profile '+user_profile+\\\n",
    "        ' --bucket '+bucket_name+'  --key projects/2018_11_20_Periscope_Calico/'+\\\n",
    "        f2unarchive+'   --restore-request GlacierJobParameters={\"Tier\"=\"Standard\"}'\n",
    "        print(cmd)\n",
    "        os.system(cmd)"
   ]
  },
  {
   "cell_type": "code",
   "execution_count": 46,
   "metadata": {},
   "outputs": [
    {
     "data": {
      "text/plain": [
       "'1'"
      ]
     },
     "execution_count": 46,
     "metadata": {},
     "output_type": "execute_result"
    }
   ],
   "source": [
    "plate_well_dirs_ls[0].split('-')[-1]"
   ]
  },
  {
   "cell_type": "code",
   "execution_count": null,
   "metadata": {},
   "outputs": [],
   "source": []
  },
  {
   "cell_type": "markdown",
   "metadata": {},
   "source": [
    "## Plot geometric median of all guides of an input gene"
   ]
  },
  {
   "cell_type": "code",
   "execution_count": null,
   "metadata": {},
   "outputs": [],
   "source": [
    "import glob\n",
    "rootDir='/home/ubuntu/calbucket/projects/2018_11_20_Periscope_Calico/'\n",
    "sc_files_dir=rootDir+'workspace/software/CP186-A549-WG/data/1.profiles/20200805_A549_WG_Screen/single_cell/\\\n",
    "single_cell_by_guide/'\n",
    "batch='20200805_A549_WG_Screen';\n",
    "\n",
    "### metadata \n",
    "metadata_dir=rootDir+'workspace/metadata/'+batch+'/'\n",
    "metadaDataFiles=os.listdir(metadata_dir)\n",
    "metadata_orig= pd.read_csv(metadata_dir+metadaDataFiles[0])\n",
    "\n",
    "# input_gene='KRT28'\n",
    "box_size=100\n",
    "im_size=5500\n",
    "n_cells=0\n",
    "cell_selection_method='geometric_median'\n",
    "channels=[\"Mito\",\"AGP\",\"DNA\",\"RNA\",\"ER\",\"Outline\"]\n",
    "\n",
    "genes_ls=metadata_orig.gene_symbol.unique().tolist()\n",
    "\n",
    "for igi in range(1224,len(genes_ls)):\n",
    "    input_gene=genes_ls[igi]\n",
    "    all_guides_gms_ls=[]\n",
    "    gene_guids_ls=glob.glob(sc_files_dir+'*_'+input_gene+'.csv.gz')\n",
    "    for gi in gene_guids_ls:\n",
    "        df_p_s=pd.read_csv(gi);\n",
    "        channels=['DNA','Mito','Phalloidin','WGA','ER','Outline']\n",
    "        for ch in channels:\n",
    "            df_p_s[\"PathName_Corr\"+ch]=rootDir+batch+'/images_corrected_cropped/'+df_p_s[\"Metadata_Foci_plate\"]+'_'+df_p_s[\"Metadata_Foci_well\"]+'/Corr'+ch\n",
    "            df_p_s[\"FileName_Corr\"+ch]=\"Corr\"+ch+\"_\"+\"Site_\"+df_p_s[\"Metadata_Foci_site_location\"].astype(str)+\".tiff\"\n",
    "\n",
    "        df_p_s[\"Path_Outlines\"]=rootDir+'workspace/analysis/'+batch+'/'+df_p_s[\"Metadata_Foci_plate\"]+'-'+df_p_s[\"Metadata_Foci_well\"]+'-'+df_p_s[\"Metadata_Foci_site_location\"].astype(str)+'/'\\\n",
    "        +'/CorrDNA_Site_'+df_p_s[\"Metadata_Foci_site_location\"].astype(str)+'_Overlay.png'\n",
    "\n",
    "        df_p_s[\"Nuclei_Location_Center_X\"]=df_p_s[\"Cells_AreaShape_Center_X\"];\n",
    "        df_p_s[\"Nuclei_Location_Center_Y\"]=df_p_s[\"Cells_AreaShape_Center_Y\"];\n",
    "        \n",
    "        df_p_s=edgeCellFilter2(df_p_s,im_size,box_size/2);\n",
    "\n",
    "        if df_p_s.shape[0]>0:\n",
    "            df_samples = extract_single_cell_samples(df_p_s.sample(n = np.min([1500,df_p_s.shape[0]]),\\\n",
    "                            replace = False).reset_index(drop=True),n_cells,cell_selection_method);\n",
    "            all_guides_gms_ls.append(df_samples)\n",
    "\n",
    "    all_guides_gms_df=pd.concat(all_guides_gms_ls,ignore_index=True).drop_duplicates(ignore_index=True)\n",
    "    \n",
    "    if all_guides_gms_df.shape[0]==1:\n",
    "        all_guides_gms_df=pd.concat([all_guides_gms_df]*2, ignore_index=True)    \n",
    "    \n",
    "    fig=visualize_n_SingleCell_pooled(channels,all_guides_gms_df,box_size,im_size,title=input_gene+'_'+cell_selection_method);\n",
    "\n",
    "    resultsDir='/home/ubuntu/bucket/projects/2018_11_20_Periscope_Calico/workspace/visualizations/20200805_A549_WG_Screen/geometric_median_guide_level/'\n",
    "    fig.savefig(resultsDir+input_gene+'.png')  \n",
    "    plt.ioff()"
   ]
  },
  {
   "cell_type": "code",
   "execution_count": 41,
   "metadata": {},
   "outputs": [],
   "source": [
    "df_p_s=pd.read_csv(gi);\n",
    "df_p_s[\"Nuclei_Location_Center_X\"]=df_p_s[\"Cells_AreaShape_Center_X\"];\n",
    "df_p_s[\"Nuclei_Location_Center_Y\"]=df_p_s[\"Cells_AreaShape_Center_Y\"];\n",
    "df_p_s=edgeCellFilter2(df_p_s,im_size,box_size/2);\n",
    "# df_p_s.shape"
   ]
  },
  {
   "cell_type": "code",
   "execution_count": 12,
   "metadata": {},
   "outputs": [
    {
     "data": {
      "text/plain": [
       "20393"
      ]
     },
     "execution_count": 12,
     "metadata": {},
     "output_type": "execute_result"
    }
   ],
   "source": [
    "# genes_ls.index('LOC653602')\n",
    "# pd.concat([all_guides_gms_df]*2, ignore_index=True)\n",
    "len(genes_ls)"
   ]
  },
  {
   "cell_type": "code",
   "execution_count": 7,
   "metadata": {},
   "outputs": [
    {
     "data": {
      "text/plain": [
       "(101,\n",
       " (1, 3794),\n",
       " ['/home/ubuntu/calbucket/projects/2018_11_20_Periscope_Calico/workspace/software/CP186-A549-WG/data/1.profiles/20200805_A549_WG_Screen/single_cell/single_cell_by_guide/20200805_A549_WG_Screen_single_cell_normalized_ALLBATCHES__TTCATGGCTCCAGGCATCAG_DEFB107B.csv.gz'])"
      ]
     },
     "execution_count": 7,
     "metadata": {},
     "output_type": "execute_result"
    }
   ],
   "source": [
    "igi,all_guides_gms_df.shape,gene_guids_ls"
   ]
  },
  {
   "cell_type": "code",
   "execution_count": 27,
   "metadata": {},
   "outputs": [
    {
     "data": {
      "text/plain": [
       "0"
      ]
     },
     "execution_count": 27,
     "metadata": {},
     "output_type": "execute_result"
    }
   ],
   "source": [
    "os.system('mkdir -p /home/ubuntu/bucket/projects/2018_11_20_Periscope_Calico/workspace/visualizations/20200805_A549_WG_Screen/geometric_median_guide_level')"
   ]
  },
  {
   "cell_type": "code",
   "execution_count": 29,
   "metadata": {},
   "outputs": [
    {
     "name": "stdout",
     "output_type": "stream",
     "text": [
      "\u001b[0m\u001b[01;34m20200805_A549_WG_Screen\u001b[0m/\r\n"
     ]
    }
   ],
   "source": [
    "ls /home/ubuntu/bucket/projects/2018_11_20_Periscope_Calico/workspace/visualizations"
   ]
  },
  {
   "cell_type": "code",
   "execution_count": null,
   "metadata": {},
   "outputs": [],
   "source": [
    "# metadata_orig.gene_symbol.unique().tolist()"
   ]
  },
  {
   "cell_type": "code",
   "execution_count": null,
   "metadata": {},
   "outputs": [],
   "source": []
  }
 ],
 "metadata": {
  "kernelspec": {
   "display_name": "Python 3 (ipykernel)",
   "language": "python",
   "name": "python3"
  },
  "language_info": {
   "codemirror_mode": {
    "name": "ipython",
    "version": 3
   },
   "file_extension": ".py",
   "mimetype": "text/x-python",
   "name": "python",
   "nbconvert_exporter": "python",
   "pygments_lexer": "ipython3",
   "version": "3.9.0"
  },
  "latex_envs": {
   "LaTeX_envs_menu_present": true,
   "autoclose": false,
   "autocomplete": true,
   "bibliofile": "biblio.bib",
   "cite_by": "apalike",
   "current_citInitial": 1,
   "eqLabelWithNumbers": true,
   "eqNumInitial": 1,
   "hotkeys": {
    "equation": "Ctrl-E",
    "itemize": "Ctrl-I"
   },
   "labels_anchors": false,
   "latex_user_defs": false,
   "report_style_numbering": false,
   "user_envs_cfg": false
  },
  "varInspector": {
   "cols": {
    "lenName": 16,
    "lenType": 16,
    "lenVar": 40
   },
   "kernels_config": {
    "python": {
     "delete_cmd_postfix": "",
     "delete_cmd_prefix": "del ",
     "library": "var_list.py",
     "varRefreshCmd": "print(var_dic_list())"
    },
    "r": {
     "delete_cmd_postfix": ") ",
     "delete_cmd_prefix": "rm(",
     "library": "var_list.r",
     "varRefreshCmd": "cat(var_dic_list()) "
    }
   },
   "types_to_exclude": [
    "module",
    "function",
    "builtin_function_or_method",
    "instance",
    "_Feature"
   ],
   "window_display": false
  }
 },
 "nbformat": 4,
 "nbformat_minor": 4
}

{
 "cells": [
  {
   "cell_type": "markdown",
   "metadata": {},
   "source": [
    "## Reading Single Cell profiles into the memory\n",
    "- All the information about single cells are stored in a sqlite file for each plate\n",
    "- sqlite files are huge (up to 50 GB) and loading them to memory may cause memory errors\n",
    "\n",
    "\n",
    "#### Here are alternative ways of handling this issue:\n",
    "\n",
    "- Reading All the Single Cells of a plate\n",
    "\n",
    "- Reading random images or defind subset of the plate images \n",
    "\n",
    "- Reading a subset of wells from the plate \n",
    "\n",
    "- Reading a subset of features from the plate \n",
    "\n",
    "- Reading a subset of features and a subset of wells of a plate \n",
    "   \n",
    "- Reading a subset of objects from a subset of wells plate    \n",
    "  \n",
    "  \n",
    "** Timing Example **\n",
    "* SQ00015195  :  11.55 GB\n",
    "\n",
    "- Reading All the Single Cells of a plate\n",
    "\n",
    "- Reading random images or defind subset of the plate images \n",
    "\n",
    "- Reading a subset of wells from the plate \n",
    "\n",
    "- Reading a subset of features from the plate \n",
    "   - One feature: 7 mins\n",
    "\n",
    "- Reading a subset of features and a subset of wells of a plate \n",
    "   - One feature and one well: 0.6 mins\n",
    "   \n",
    "- Reading a subset of objects from a subset of wells plate    \n",
    "  "
   ]
  },
  {
   "cell_type": "code",
   "execution_count": 3,
   "metadata": {},
   "outputs": [
    {
     "name": "stdout",
     "output_type": "stream",
     "text": [
      "The autoreload extension is already loaded. To reload it, use:\n",
      "  %reload_ext autoreload\n"
     ]
    }
   ],
   "source": [
    "%load_ext autoreload\n",
    "%autoreload 2\n",
    "%matplotlib notebook\n",
    "import numpy as np\n",
    "import pandas as pd \n",
    "import time\n",
    "import sys, os\n",
    "# from utils import read_data, visualize_data\n",
    "from utils.read_data import *\n",
    "from utils.visualize_data import *\n",
    "import pandas as pd\n",
    "import seaborn as sns\n",
    "from sqlalchemy import create_engine\n",
    "from functools import reduce\n",
    "import time\n",
    "from scipy.stats import pearsonr"
   ]
  },
  {
   "cell_type": "code",
   "execution_count": 4,
   "metadata": {},
   "outputs": [],
   "source": [
    "# Example dataset:\n",
    "#     drug rep\n",
    "meta_lincs=pd.read_csv(\"/home/ubuntu/bucket/projects/2018_04_20_Rosetta/workspace/results/synth_meta/meta_lincs_repLevel.csv\")\n",
    "rootDirDrug='/home/ubuntu/bucket/projects/2015_10_05_DrugRepurposing_AravindSubramanian_GolubLab_Broad/workspace'\n",
    "batchName='2016_04_01_a549_48hr_batch1'\n",
    "p,wells=\"SQ00015195\",[\"A13\"]\n",
    "fileName=rootDirDrug+\"/backend/\"+batchName+\"/\"+p+\"/\"+p+\".sqlite\"\n"
   ]
  },
  {
   "cell_type": "code",
   "execution_count": 5,
   "metadata": {},
   "outputs": [
    {
     "data": {
      "text/plain": [
       "'/home/ubuntu/bucket/projects/2015_10_05_DrugRepurposing_AravindSubramanian_GolubLab_Broad/workspace/backend/2016_04_01_a549_48hr_batch1/SQ00015195/SQ00015195.sqlite'"
      ]
     },
     "execution_count": 5,
     "metadata": {},
     "output_type": "execute_result"
    }
   ],
   "source": [
    "fileName"
   ]
  },
  {
   "cell_type": "markdown",
   "metadata": {},
   "source": [
    "###### Check file size"
   ]
  },
  {
   "cell_type": "code",
   "execution_count": 3,
   "metadata": {},
   "outputs": [
    {
     "name": "stdout",
     "output_type": "stream",
     "text": [
      "SQ00015195  :  11.553037312\n"
     ]
    }
   ],
   "source": [
    "sqlFileSizGB=os.stat(fileName).st_size/10e8\n",
    "print(p,' : ',sqlFileSizGB)"
   ]
  },
  {
   "cell_type": "markdown",
   "metadata": {},
   "source": [
    "## Reading All the Single Cells of a plate"
   ]
  },
  {
   "cell_type": "code",
   "execution_count": null,
   "metadata": {},
   "outputs": [],
   "source": [
    "# python sql reader\n",
    "compartments=[\"cells\", \"cytoplasm\", \"nuclei\"]\n",
    "# compartments=[\"Neurites\",\"CellBodies\",\"CellBodiesPlusNeurites\",\"Nuclei\",\"Cytoplasm\"]\n",
    "\n",
    "df_p_s=readSingleCellData_sqlalch(fileName,compartments);\n",
    "\n",
    "# R sql reader\n",
    "df_p_s=readSingleCellData_r(fileName);"
   ]
  },
  {
   "cell_type": "markdown",
   "metadata": {},
   "source": [
    "## Reading random images or defind subset of the plate images "
   ]
  },
  {
   "cell_type": "code",
   "execution_count": null,
   "metadata": {},
   "outputs": [],
   "source": [
    "df_p_s=readSingleCellData_sqlalch_random_image_subset(fileName,50);"
   ]
  },
  {
   "cell_type": "markdown",
   "metadata": {},
   "source": [
    "## Reading a subset of wells from the plate"
   ]
  },
  {
   "cell_type": "code",
   "execution_count": null,
   "metadata": {},
   "outputs": [],
   "source": [
    "df_p_s=readSingleCellData_sqlalch_well_subset(fileName,wells);"
   ]
  },
  {
   "cell_type": "markdown",
   "metadata": {},
   "source": [
    "## Reading a subset of objects from a subset of wells plate"
   ]
  },
  {
   "cell_type": "code",
   "execution_count": null,
   "metadata": {},
   "outputs": [],
   "source": [
    "df_p_s=readSingleCellData_sqlalch_wellAndObject_subset(fileName,wells,50);"
   ]
  },
  {
   "cell_type": "markdown",
   "metadata": {},
   "source": [
    "## Reading a subset of features from the plate "
   ]
  },
  {
   "cell_type": "code",
   "execution_count": 15,
   "metadata": {},
   "outputs": [
    {
     "name": "stdout",
     "output_type": "stream",
     "text": [
      "time elapsed: 7.294410037994385\n"
     ]
    }
   ],
   "source": [
    "selected_features='Cells_Intensity_IntegratedIntensity_DNA'\n",
    "df_p_s=readSingleCellData_sqlalch_features_subset(fileName,selected_features);\n"
   ]
  },
  {
   "cell_type": "markdown",
   "metadata": {},
   "source": [
    "## Reading a subset of features and a subset of wells of a plate "
   ]
  },
  {
   "cell_type": "code",
   "execution_count": 6,
   "metadata": {},
   "outputs": [
    {
     "name": "stdout",
     "output_type": "stream",
     "text": [
      "time elapsed: 5.4183234333992  mins\n"
     ]
    }
   ],
   "source": [
    "selected_features='Cells_Intensity_IntegratedIntensity_DNA'\n",
    "wells=[\"A13\"]\n",
    "\n",
    "p,wells=\"SQ00015199\", ['P20']\n",
    "fileName=rootDirDrug+\"/backend/\"+batchName+\"/\"+p+\"/\"+p+\".sqlite\"\n",
    "df_p_s=readSingleCellData_sqlalch_FeatureAndWell_subset(fileName,selected_features,wells);"
   ]
  },
  {
   "cell_type": "code",
   "execution_count": 33,
   "metadata": {},
   "outputs": [],
   "source": [
    "# df_p_s.columns.duplicated()"
   ]
  },
  {
   "cell_type": "code",
   "execution_count": null,
   "metadata": {},
   "outputs": [],
   "source": []
  },
  {
   "cell_type": "code",
   "execution_count": 7,
   "metadata": {},
   "outputs": [],
   "source": []
  },
  {
   "cell_type": "code",
   "execution_count": 8,
   "metadata": {},
   "outputs": [
    {
     "data": {
      "text/plain": [
       "['Nuclei_Correlation_Manders_AGP_DNA',\n",
       " 'Nuclei_Correlation_Manders_AGP_ER',\n",
       " 'Nuclei_Correlation_Manders_AGP_Mito',\n",
       " 'Nuclei_Correlation_Manders_AGP_RNA',\n",
       " 'Nuclei_Correlation_Manders_DNA_AGP',\n",
       " 'Nuclei_Correlation_Manders_DNA_ER',\n",
       " 'Nuclei_Correlation_Manders_DNA_Mito',\n",
       " 'Nuclei_Correlation_Manders_DNA_RNA',\n",
       " 'Nuclei_Correlation_Manders_ER_AGP',\n",
       " 'Nuclei_Correlation_Manders_ER_DNA',\n",
       " 'Nuclei_Correlation_Manders_ER_Mito',\n",
       " 'Nuclei_Correlation_Manders_ER_RNA',\n",
       " 'Nuclei_Correlation_Manders_Mito_AGP',\n",
       " 'Nuclei_Correlation_Manders_Mito_DNA',\n",
       " 'Nuclei_Correlation_Manders_Mito_ER',\n",
       " 'Nuclei_Correlation_Manders_Mito_RNA',\n",
       " 'Nuclei_Correlation_Manders_RNA_AGP',\n",
       " 'Nuclei_Correlation_Manders_RNA_DNA',\n",
       " 'Nuclei_Correlation_Manders_RNA_ER',\n",
       " 'Nuclei_Correlation_Manders_RNA_Mito',\n",
       " 'Nuclei_Correlation_RWC_AGP_DNA',\n",
       " 'Nuclei_Correlation_RWC_AGP_ER',\n",
       " 'Nuclei_Correlation_RWC_AGP_Mito',\n",
       " 'Nuclei_Correlation_RWC_AGP_RNA',\n",
       " 'Nuclei_Correlation_RWC_DNA_AGP',\n",
       " 'Nuclei_Correlation_RWC_DNA_ER',\n",
       " 'Nuclei_Correlation_RWC_DNA_Mito',\n",
       " 'Nuclei_Correlation_RWC_DNA_RNA',\n",
       " 'Nuclei_Correlation_RWC_ER_AGP',\n",
       " 'Nuclei_Correlation_RWC_ER_DNA',\n",
       " 'Nuclei_Correlation_RWC_ER_Mito',\n",
       " 'Nuclei_Correlation_RWC_ER_RNA',\n",
       " 'Nuclei_Correlation_RWC_Mito_AGP',\n",
       " 'Nuclei_Correlation_RWC_Mito_DNA',\n",
       " 'Nuclei_Correlation_RWC_Mito_ER',\n",
       " 'Nuclei_Correlation_RWC_Mito_RNA',\n",
       " 'Nuclei_Correlation_RWC_RNA_AGP',\n",
       " 'Nuclei_Correlation_RWC_RNA_DNA',\n",
       " 'Nuclei_Correlation_RWC_RNA_ER',\n",
       " 'Nuclei_Correlation_RWC_RNA_Mito',\n",
       " 'Nuclei_Granularity_14_AGP',\n",
       " 'Nuclei_Granularity_14_DNA',\n",
       " 'Nuclei_Granularity_14_ER',\n",
       " 'Nuclei_Granularity_14_Mito',\n",
       " 'Nuclei_Granularity_14_RNA',\n",
       " 'Nuclei_Granularity_15_AGP',\n",
       " 'Nuclei_Granularity_15_DNA',\n",
       " 'Nuclei_Granularity_15_ER',\n",
       " 'Nuclei_Granularity_15_Mito',\n",
       " 'Nuclei_Granularity_15_RNA',\n",
       " 'Nuclei_Granularity_16_AGP',\n",
       " 'Nuclei_Granularity_16_DNA',\n",
       " 'Nuclei_Granularity_16_ER',\n",
       " 'Nuclei_Granularity_16_Mito',\n",
       " 'Nuclei_Granularity_16_RNA']"
      ]
     },
     "execution_count": 8,
     "metadata": {},
     "output_type": "execute_result"
    }
   ],
   "source": [
    "blackListFeatures"
   ]
  },
  {
   "cell_type": "code",
   "execution_count": null,
   "metadata": {},
   "outputs": [],
   "source": []
  }
 ],
 "metadata": {
  "kernelspec": {
   "display_name": "Python 3",
   "language": "python",
   "name": "python3"
  },
  "language_info": {
   "codemirror_mode": {
    "name": "ipython",
    "version": 3
   },
   "file_extension": ".py",
   "mimetype": "text/x-python",
   "name": "python",
   "nbconvert_exporter": "python",
   "pygments_lexer": "ipython3",
   "version": "3.7.6"
  }
 },
 "nbformat": 4,
 "nbformat_minor": 4
}
